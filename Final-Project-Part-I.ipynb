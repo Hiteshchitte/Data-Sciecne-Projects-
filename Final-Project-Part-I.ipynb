{
 "cells": [
  {
   "cell_type": "markdown",
   "metadata": {
    "toc": "true"
   },
   "source": [
    "# Final Project Part I\n",
    "\n",
    "In this final project, you will work through the Database Design, ETL and Analytics phases using a multii-year Chicago crime data source. This final project is divided into two parts.  Part I fill focus on the database design and ETL.  Part II will focus on the analytics.\n",
    "\n",
    "In this Part I you will conduct the following tasks:\n",
    "\n",
    "1. Reverse engineer an existing sourse RDBMS using metadata SQL queries to identify the table and attribute details necessary for creating tables and an entity-relationship diagram depecting the database logical structure. The source data is an SQLite database.\n",
    "2. Implement a set of tables using DDL in your SSO dsa_student database schema on the postgres server that replicates the source database structure.\n",
    "3. Create an Entity Relationship Diagram.\n",
    "4. Establish connections to the source and destination databases.\n",
    "5. Extract the source data from tables, Transform values as required and Load into the destination tables.\n",
    "6. Validate the ETL process by confirming row counts in both source and destination tables.\n",
    "\n",
    "\n",
    "Specific resourses and steps are listed below:"
   ]
  },
  {
   "cell_type": "markdown",
   "metadata": {},
   "source": [
    "## Source SQLite Database\n",
    "\n",
    "* Dataset URL: **/dsa/data/DSA-7030/cc0122dbv2.sqlite.db**\n",
    "* Data Dictionary: [pdf](./ChicagoData-Description.pdf)\n",
    "* [Chicago Crimes 2001-Present Dashboard](https://data.cityofchicago.org/Public-Safety/Crimes-2001-to-present-Dashboard/5cd6-ry5g)\n",
    "\n",
    "This SQLite database consists of a set of normalized relations populated with publically available Chicago crime data for the years 2001 to 2022.  "
   ]
  },
  {
   "cell_type": "markdown",
   "metadata": {},
   "source": [
    "## Database exploration\n",
    "\n",
    "The cells below provide SQL DML statments for examining the underlying metadata in the SQLite database that describes the table, column, and relationship details.  An initial connection and subsequent SQL statements are provided for acquiring the information necessary for reconstructing the table and relational structure in your postgres SSO database."
   ]
  },
  {
   "cell_type": "code",
   "execution_count": 1,
   "metadata": {},
   "outputs": [
    {
     "data": {
      "text/plain": [
       "'Connected: @/dsa/data/DSA-7030/cc0122dbv2.sqlite.db'"
      ]
     },
     "execution_count": 1,
     "metadata": {},
     "output_type": "execute_result"
    }
   ],
   "source": [
    "#Load extention and connect to database\n",
    "%load_ext sql\n",
    "%sql sqlite:////dsa/data/DSA-7030/cc0122dbv2.sqlite.db\n",
    "    "
   ]
  },
  {
   "cell_type": "code",
   "execution_count": 12,
   "metadata": {},
   "outputs": [
    {
     "ename": "SyntaxError",
     "evalue": "invalid syntax (<ipython-input-12-2e3e21ff14a3>, line 5)",
     "output_type": "error",
     "traceback": [
      "\u001b[0;36m  File \u001b[0;32m\"<ipython-input-12-2e3e21ff14a3>\"\u001b[0;36m, line \u001b[0;32m5\u001b[0m\n\u001b[0;31m    SELECT sqlite FROM sqlite_schema WHERE name = 'cc_iucr_codes' ;\u001b[0m\n\u001b[0m                ^\u001b[0m\n\u001b[0;31mSyntaxError\u001b[0m\u001b[0;31m:\u001b[0m invalid syntax\n"
     ]
    }
   ],
   "source": [
    "####################\n",
    "\n",
    "%%sql \n",
    "\n",
    "SELECT sql FROM sqlite_schema WHERE name = 'cc_iucr_codes' ;\n",
    "\n"
   ]
  },
  {
   "cell_type": "markdown",
   "metadata": {},
   "source": [
    "## Explore the SQLite Tables List\n",
    "\n",
    "This quiery simply lists the names of the database tables."
   ]
  },
  {
   "cell_type": "code",
   "execution_count": 38,
   "metadata": {},
   "outputs": [],
   "source": [
    "%%sql\n",
    "SELECT distinct m.type, m.tbl_name --m.sql\n",
    "FROM sqlite_master AS m,\n",
    "     pragma_table_info(m.name) AS t\n",
    "WHERE m.type = 'table'\n",
    "order by m.name, t.pk DESC"
   ]
  },
  {
   "cell_type": "markdown",
   "metadata": {},
   "source": [
    "## Explore Column Details\n",
    "\n",
    "The query below provdes the complete list of tables and their columns with important details.\n",
    "\n",
    "* **tbl_name** = Name of the table\n",
    "* **name** = column name\n",
    "* **type** = declared data type\n",
    "* **notnull** = indicates column declared as NOT NULL\n",
    "* **pk** = indicates column is the primary key"
   ]
  },
  {
   "cell_type": "code",
   "execution_count": 39,
   "metadata": {
    "scrolled": true
   },
   "outputs": [],
   "source": [
    "%%sql \n",
    "SELECT m.tbl_name, t.* --m.sql\n",
    " FROM pragma_table_info(m.tbl_name) t, sqlite_master m WHERE m.type='table';"
   ]
  },
  {
   "cell_type": "markdown",
   "metadata": {},
   "source": [
    "## Below query provdes the list of columns that are declared \"unique\" for referential integrity enforcement.\n",
    "\n",
    "<u>Query Output Descriptions</u>\n",
    "* **name** = the table name begining at the \"cc_\" -- cc_case_location is table name.\n",
    "* **unique** = indicates the column is declared \"unique\"\n",
    "* **origin** = indicates the columns is declared as primary key\n",
    "* **name_1** = column name"
   ]
  },
  {
   "cell_type": "code",
   "execution_count": 40,
   "metadata": {},
   "outputs": [],
   "source": [
    "%%sql \n",
    "select il.*,ii.* --,m.sql\n",
    "    from sqlite_master m, \n",
    "    pragma_index_list( m.name ) as il,\n",
    "    pragma_index_info(il.name) as ii"
   ]
  },
  {
   "cell_type": "markdown",
   "metadata": {},
   "source": [
    "## Explore Relationship Details (get foreign key references)\n",
    "\n",
    "The below query exracts the details describing the foreign key referenes bewtween tables.\n",
    "\n",
    "* **from_table** = the name of the one-side table\n",
    "* **from_column** = the name of the foreign key column in the one-side table\n",
    "* **to_table** = the name of the many-side reference table\n",
    "* **to_column** = the name of the foreign key column in the one-side reference table\n",
    "\n",
    "These metadata can be translated to the necessary SQL statement to establish a relationship between tables:\n",
    "\n",
    "```SQL\n",
    "FOREIGN KEY (<from_column>) REFERENCES <to_table>(<to_column>)\n",
    "```"
   ]
  },
  {
   "cell_type": "code",
   "execution_count": 41,
   "metadata": {},
   "outputs": [],
   "source": [
    "%%sql\n",
    "SELECT \n",
    "    m.name as from_table, f.'from' as from_column, f.'table' as to_table, f.'to' as to_column --, m.sql\n",
    "FROM\n",
    "    sqlite_master m\n",
    "    JOIN pragma_foreign_key_list(m.name) f ON m.name != f.\"table\"\n",
    "WHERE m.type = 'table'\n",
    "ORDER BY m.name\n",
    ";"
   ]
  },
  {
   "cell_type": "markdown",
   "metadata": {},
   "source": [
    "## Using the metadata from above:\n",
    "\n",
    "## Implement the required CREATE TABLE statements for establishing the Chicago Crime Database in your SSO dsa_student database.  \n",
    "\n",
    "The SQL statement takes this form:\n",
    "\n",
    "```SQL\n",
    "CREATE TABLE SSO.tbl_name (\n",
    " column_name_1 data_type <unqiue, not null>,\n",
    " column_name_N data_type <unqiue, not null>,\n",
    " PRIMARY KEY (<column_name>),\n",
    " <FOREIGN KEY (from_column_name) REFERENCES <SSO.to_table_name>(to_column_name)\n",
    " );\n",
    "```\n",
    "\n",
    "**The database tables and column names created in your SSO postgres server dsa_student database should be named exactly as they appear in the ```cc0122dbv2.sqlite.db``` SQLite database.**\n",
    "\n",
    "Use as many cells as desired."
   ]
  },
  {
   "cell_type": "code",
   "execution_count": 39,
   "metadata": {},
   "outputs": [],
   "source": [
    "#sql create table statements"
   ]
  },
  {
   "cell_type": "raw",
   "metadata": {},
   "source": [
    "#1 For cc_iucr_codes\n",
    "\n",
    "            CREATE TABLE hc3ng.cc_iucr_codes(\n",
    "            iucr_code varchar(10) UNIQUE, \n",
    "            iucr_index_code char,\n",
    "            PRIMARY KEY (iucr_code)\n",
    "            );"
   ]
  },
  {
   "cell_type": "raw",
   "metadata": {},
   "source": [
    "#2 For cc_nibrs_crimes_against\n",
    "\n",
    "            CREATE TABLE hc3ng.cc_nibrs_crimes_against(\n",
    "            nibrs_crime_against varchar(20) UNIQUE, \n",
    "            PRIMARY KEY (nibrs_crime_against)\n",
    "            );"
   ]
  },
  {
   "cell_type": "raw",
   "metadata": {},
   "source": [
    "#3 For cc_nibrs_categories\n",
    "\n",
    "            CREATE TABLE hc3ng.cc_nibrs_categories(\n",
    "            nibrs_offense_code varchar(10) UNIQUE,  \n",
    "            nibrs_offense_category_name varchar(50), \n",
    "            PRIMARY KEY (nibrs_offense_code)\n",
    "            );"
   ]
  },
  {
   "cell_type": "raw",
   "metadata": {},
   "source": [
    "#4 For cc_iucr_codes_primary_descriptions\n",
    "\n",
    "            CREATE TABLE hc3ng.cc_iucr_codes_primary_descriptions(\n",
    "            iucr_code varchar(10) UNIQUE, \n",
    "            iucr_primary_desc varchar(100), \n",
    "            PRIMARY KEY (iucr_code),\n",
    "            UNIQUE (iucr_code),\n",
    "            FOREIGN KEY(iucr_code) REFERENCES cc_iucr_codes(iucr_code)\n",
    "            );"
   ]
  },
  {
   "cell_type": "raw",
   "metadata": {},
   "source": [
    "#5 For cc_iucr_codes_secondary_descriptions\n",
    "\n",
    "            CREATE TABLE hc3ng.cc_iucr_codes_secondary_descriptions(\n",
    "            iucr_code varchar(10) UNIQUE, \n",
    "            iucr_secondary_desc varchar(100), \n",
    "            PRIMARY KEY (iucr_code),\n",
    "            UNIQUE (iucr_code),\n",
    "            FOREIGN KEY(iucr_code) REFERENCES cc_iucr_codes(iucr_code)\n",
    "            );"
   ]
  },
  {
   "cell_type": "raw",
   "metadata": {},
   "source": [
    "#6 For cc_nibrs_fbicode_offenses\n",
    "\n",
    "            CREATE TABLE hc3ng.cc_nibrs_fbicode_offenses(\n",
    "            nibrs_offense_code varchar(10) UNIQUE, \n",
    "            nibrs_offense_name varchar(100),\n",
    "            PRIMARY KEY (nibrs_offense_code),\n",
    "            FOREIGN KEY (nibrs_offense_code) REFERENCES cc_nibrs_categories (nibrs_offense_code)\n",
    "            );"
   ]
  },
  {
   "cell_type": "raw",
   "metadata": {},
   "source": [
    "#7 For cc_nibrs_offenses_crimes_aginst\n",
    "\n",
    "            CREATE TABLE hc3ng.cc_nibrs_offenses_crimes_aginst(\n",
    "            nibrs_crime_against varchar(20), \n",
    "            nibrs_offense_code varchar (10), \n",
    "            PRIMARY KEY (nibrs_crime_against, nibrs_offense_code), \n",
    "            FOREIGN KEY (nibrs_crime_against) REFERENCES cc_nibrs_crimes_against(nibrs_crime_against),\n",
    "            FOREIGN KEY (nibrs_offense_code) REFERENCES cc_nibrs_fbicode_offenses(nibrs_offense_code)\n",
    "            ); \n"
   ]
  },
  {
   "cell_type": "raw",
   "metadata": {},
   "source": [
    "#8 For cc_cases\n",
    "\n",
    "            CREATE TABLE hc3ng.cc_cases(\n",
    "            case_number varchar(20) UNIQUE, \n",
    "            incident_date timestamp , \n",
    "            iucr_code varchar(10) , \n",
    "            nibrs_fbi_offense_code varchar (10), \n",
    "            arrest INT, \n",
    "            domestic INT, \n",
    "            updated_on timestamp, \n",
    "            PRIMARY KEY (case_number), \n",
    "            FOREIGN KEY (iucr_code) REFERENCES cc_iucr_codes (iucr_code), \n",
    "            FOREIGN KEY (nibrs_fbi_offense_code)REFERENCES cc_nibrs_fbicode_offenses (nibrs_offense_code),\n",
    "            UNIQUE (case_number)\n",
    "            );"
   ]
  },
  {
   "cell_type": "raw",
   "metadata": {},
   "source": [
    "#9 For cc_case_location\n",
    "\n",
    "            CREATE TABLE hc3ng.cc_case_location (\n",
    "            case_number varchar(20),\n",
    "            block varchar(100), \n",
    "            location_description varchar(100),\n",
    "            community_area INT, \n",
    "            ward INT, \n",
    "            district INT, \n",
    "            beat INT, \n",
    "            latitude real, \n",
    "            longitude real, \n",
    "            PRIMARY KEY (case_number)\n",
    "            );"
   ]
  },
  {
   "cell_type": "markdown",
   "metadata": {},
   "source": [
    "# Connect to your SSO database using sqlAlchmey connection and implement your database structure"
   ]
  },
  {
   "cell_type": "code",
   "execution_count": 14,
   "metadata": {},
   "outputs": [
    {
     "name": "stdout",
     "output_type": "stream",
     "text": [
      "Type username (pawprint) and hit enter: hc3ng\n",
      "Type password and hit enter: ········\n"
     ]
    }
   ],
   "source": [
    "#implement tables in SSO database\n",
    "\n",
    "import psycopg2\n",
    "import getpass\n",
    "\n",
    "\n",
    "database = \"dsa_student\"\n",
    "user     = input(\"Type username (pawprint) and hit enter: \")\n",
    "password = getpass.getpass(\"Type password and hit enter: \")\n",
    "\n",
    "connection = psycopg2.connect(database = database,\n",
    "                              user     = user,\n",
    "                              host     = 'pgsql.dsa.lan',\n",
    "                              password = password)"
   ]
  },
  {
   "cell_type": "code",
   "execution_count": 15,
   "metadata": {},
   "outputs": [
    {
     "name": "stdout",
     "output_type": "stream",
     "text": [
      "Columns in table:\n",
      "('iucr_code',)\n",
      "('iucr_index_code',)\n"
     ]
    }
   ],
   "source": [
    "#1\n",
    "with connection, connection.cursor() as cursor:\n",
    "    cursor.execute(\n",
    "        '''\n",
    "            CREATE TABLE hc3ng.cc_iucr_codes(\n",
    "            iucr_code varchar(10) UNIQUE, \n",
    "            iucr_index_code char,\n",
    "            PRIMARY KEY (iucr_code)\n",
    "            );\n",
    "        '''\n",
    "    )\n",
    "    cursor.execute(\"SELECT COLUMN_NAME FROM information_schema.COLUMNS WHERE TABLE_NAME ='cc_iucr_codes' and TABLE_SCHEMA=\\'%s\\';\" % user)\n",
    "    results = cursor.fetchall()\n",
    "\n",
    "print(\"Columns in table:\")\n",
    "for row in results:\n",
    "    print(row)"
   ]
  },
  {
   "cell_type": "code",
   "execution_count": 16,
   "metadata": {},
   "outputs": [
    {
     "name": "stdout",
     "output_type": "stream",
     "text": [
      "Columns in table:\n",
      "('nibrs_crime_against',)\n"
     ]
    }
   ],
   "source": [
    "#2\n",
    "with connection, connection.cursor() as cursor:\n",
    "    cursor.execute(\n",
    "        '''\n",
    "            CREATE TABLE hc3ng.cc_nibrs_crimes_against(\n",
    "            nibrs_crime_against varchar(20) UNIQUE, \n",
    "            PRIMARY KEY (nibrs_crime_against)\n",
    "            );\n",
    "        '''\n",
    "    )\n",
    "    cursor.execute(\"SELECT COLUMN_NAME FROM information_schema.COLUMNS WHERE TABLE_NAME ='cc_nibrs_crimes_against' and TABLE_SCHEMA=\\'%s\\';\" % user)\n",
    "    results = cursor.fetchall()\n",
    "\n",
    "print(\"Columns in table:\")\n",
    "for row in results:\n",
    "    print(row)\n"
   ]
  },
  {
   "cell_type": "code",
   "execution_count": 17,
   "metadata": {},
   "outputs": [
    {
     "name": "stdout",
     "output_type": "stream",
     "text": [
      "Columns in table:\n",
      "('nibrs_offense_code',)\n",
      "('nibrs_offense_category_name',)\n"
     ]
    }
   ],
   "source": [
    "#3\n",
    "with connection, connection.cursor() as cursor:\n",
    "    cursor.execute(\n",
    "        '''\n",
    "            CREATE TABLE hc3ng.cc_nibrs_categories(\n",
    "            nibrs_offense_code varchar(10) UNIQUE,  \n",
    "            nibrs_offense_category_name varchar(50), \n",
    "            PRIMARY KEY (nibrs_offense_code)\n",
    "            );\n",
    "        '''\n",
    "    )\n",
    "    cursor.execute(\"SELECT COLUMN_NAME FROM information_schema.COLUMNS WHERE TABLE_NAME ='cc_nibrs_categories' and TABLE_SCHEMA=\\'%s\\';\" % user)\n",
    "    results = cursor.fetchall()\n",
    "\n",
    "print(\"Columns in table:\")\n",
    "for row in results:\n",
    "    print(row)\n"
   ]
  },
  {
   "cell_type": "code",
   "execution_count": 18,
   "metadata": {},
   "outputs": [
    {
     "name": "stdout",
     "output_type": "stream",
     "text": [
      "Columns in table:\n",
      "('iucr_code',)\n",
      "('iucr_primary_desc',)\n"
     ]
    }
   ],
   "source": [
    "#4\n",
    "with connection, connection.cursor() as cursor:\n",
    "    cursor.execute(\n",
    "        '''\n",
    "            CREATE TABLE hc3ng.cc_iucr_codes_primary_descriptions(\n",
    "            iucr_code varchar(10) UNIQUE, \n",
    "            iucr_primary_desc varchar(100), \n",
    "            PRIMARY KEY (iucr_code),\n",
    "            UNIQUE (iucr_code),\n",
    "            FOREIGN KEY(iucr_code) REFERENCES cc_iucr_codes(iucr_code)\n",
    "            );\n",
    "        '''\n",
    "    )\n",
    "    cursor.execute(\"SELECT COLUMN_NAME FROM information_schema.COLUMNS WHERE TABLE_NAME ='cc_iucr_codes_primary_descriptions' and TABLE_SCHEMA=\\'%s\\';\" % user)\n",
    "    results = cursor.fetchall()\n",
    "\n",
    "print(\"Columns in table:\")\n",
    "for row in results:\n",
    "    print(row)"
   ]
  },
  {
   "cell_type": "code",
   "execution_count": 19,
   "metadata": {},
   "outputs": [
    {
     "name": "stdout",
     "output_type": "stream",
     "text": [
      "Columns in table:\n",
      "('iucr_code',)\n",
      "('iucr_secondary_desc',)\n"
     ]
    }
   ],
   "source": [
    "#5\n",
    "with connection, connection.cursor() as cursor:\n",
    "    cursor.execute(\n",
    "        '''\n",
    "            CREATE TABLE hc3ng.cc_iucr_codes_secondary_descriptions(\n",
    "            iucr_code varchar(10) UNIQUE, \n",
    "            iucr_secondary_desc varchar(100), \n",
    "            PRIMARY KEY (iucr_code),\n",
    "            UNIQUE (iucr_code),\n",
    "            FOREIGN KEY(iucr_code) REFERENCES cc_iucr_codes(iucr_code)\n",
    "            );\n",
    "        '''\n",
    "    )\n",
    "    cursor.execute(\"SELECT COLUMN_NAME FROM information_schema.COLUMNS WHERE TABLE_NAME ='cc_iucr_codes_secondary_descriptions' and TABLE_SCHEMA=\\'%s\\';\" % user)\n",
    "    results = cursor.fetchall()\n",
    "\n",
    "print(\"Columns in table:\")\n",
    "for row in results:\n",
    "    print(row)"
   ]
  },
  {
   "cell_type": "code",
   "execution_count": 20,
   "metadata": {},
   "outputs": [
    {
     "name": "stdout",
     "output_type": "stream",
     "text": [
      "Columns in table:\n",
      "('nibrs_offense_code',)\n",
      "('nibrs_offense_name',)\n"
     ]
    }
   ],
   "source": [
    "#6\n",
    "with connection, connection.cursor() as cursor:\n",
    "    cursor.execute(\n",
    "        '''\n",
    "            CREATE TABLE hc3ng.cc_nibrs_fbicode_offenses(\n",
    "            nibrs_offense_code varchar(10) UNIQUE, \n",
    "            nibrs_offense_name varchar(100),\n",
    "            PRIMARY KEY (nibrs_offense_code),\n",
    "            FOREIGN KEY (nibrs_offense_code) REFERENCES cc_nibrs_categories (nibrs_offense_code)\n",
    "            );\n",
    "        '''\n",
    "    )\n",
    "    cursor.execute(\"SELECT COLUMN_NAME FROM information_schema.COLUMNS WHERE TABLE_NAME ='cc_nibrs_fbicode_offenses' and TABLE_SCHEMA=\\'%s\\';\" % user)\n",
    "    results = cursor.fetchall()\n",
    "\n",
    "print(\"Columns in table:\")\n",
    "for row in results:\n",
    "    print(row)"
   ]
  },
  {
   "cell_type": "code",
   "execution_count": 21,
   "metadata": {},
   "outputs": [
    {
     "name": "stdout",
     "output_type": "stream",
     "text": [
      "Columns in table:\n",
      "('nibrs_crime_against',)\n",
      "('nibrs_offense_code',)\n"
     ]
    }
   ],
   "source": [
    "#7\n",
    "with connection, connection.cursor() as cursor:\n",
    "    cursor.execute(\n",
    "        '''\n",
    "            CREATE TABLE hc3ng.cc_nibrs_offenses_crimes_aginst(\n",
    "            nibrs_crime_against varchar(20), \n",
    "            nibrs_offense_code varchar (10), \n",
    "            PRIMARY KEY (nibrs_crime_against, nibrs_offense_code), \n",
    "            FOREIGN KEY (nibrs_crime_against) REFERENCES cc_nibrs_crimes_against(nibrs_crime_against),\n",
    "            FOREIGN KEY (nibrs_offense_code) REFERENCES cc_nibrs_fbicode_offenses(nibrs_offense_code)\n",
    "            );           \n",
    "        '''\n",
    "    )\n",
    "    cursor.execute(\"SELECT COLUMN_NAME FROM information_schema.COLUMNS WHERE TABLE_NAME ='cc_nibrs_offenses_crimes_aginst' and TABLE_SCHEMA=\\'%s\\';\" % user)\n",
    "    results = cursor.fetchall()\n",
    "\n",
    "print(\"Columns in table:\")\n",
    "for row in results:\n",
    "    print(row)"
   ]
  },
  {
   "cell_type": "code",
   "execution_count": 37,
   "metadata": {},
   "outputs": [
    {
     "name": "stdout",
     "output_type": "stream",
     "text": [
      "Columns in table:\n",
      "('case_number',)\n",
      "('incident_date',)\n",
      "('iucr_code',)\n",
      "('nibrs_fbi_offense_code',)\n",
      "('arrest',)\n",
      "('domestic',)\n",
      "('updated_on',)\n"
     ]
    }
   ],
   "source": [
    "#8\n",
    "with connection, connection.cursor() as cursor:\n",
    "    cursor.execute(\n",
    "        '''\n",
    "            CREATE TABLE hc3ng.cc_cases(\n",
    "            case_number varchar(20) UNIQUE, \n",
    "            incident_date timestamp , \n",
    "            iucr_code varchar(10) , \n",
    "            nibrs_fbi_offense_code varchar (10), \n",
    "            arrest INT, \n",
    "            domestic INT, \n",
    "            updated_on timestamp, \n",
    "            PRIMARY KEY (case_number), \n",
    "            FOREIGN KEY (iucr_code) REFERENCES cc_iucr_codes (iucr_code), \n",
    "            FOREIGN KEY (nibrs_fbi_offense_code)REFERENCES cc_nibrs_fbicode_offenses (nibrs_offense_code),\n",
    "            UNIQUE (case_number)\n",
    "            );\n",
    "        '''\n",
    "    )\n",
    "    cursor.execute(\"SELECT COLUMN_NAME FROM information_schema.COLUMNS WHERE TABLE_NAME ='cc_cases' and TABLE_SCHEMA=\\'%s\\';\" % user)\n",
    "    results = cursor.fetchall()\n",
    "\n",
    "print(\"Columns in table:\")\n",
    "for row in results:\n",
    "    print(row)"
   ]
  },
  {
   "cell_type": "code",
   "execution_count": 23,
   "metadata": {},
   "outputs": [
    {
     "name": "stdout",
     "output_type": "stream",
     "text": [
      "Columns in table:\n",
      "('case_number',)\n",
      "('block',)\n",
      "('location_description',)\n",
      "('community_area',)\n",
      "('ward',)\n",
      "('district',)\n",
      "('beat',)\n",
      "('latitude',)\n",
      "('longitude',)\n"
     ]
    }
   ],
   "source": [
    "#9\n",
    "with connection, connection.cursor() as cursor:\n",
    "    cursor.execute(\n",
    "        '''\n",
    "            CREATE TABLE hc3ng.cc_case_location (\n",
    "            case_number varchar(20),\n",
    "            block varchar(100), \n",
    "            location_description varchar(100),\n",
    "            community_area INT, \n",
    "            ward INT, \n",
    "            district INT, \n",
    "            beat INT, \n",
    "            latitude real, \n",
    "            longitude real, \n",
    "            PRIMARY KEY (case_number)\n",
    "            );\n",
    "        '''\n",
    "    )\n",
    "    cursor.execute(\"SELECT COLUMN_NAME FROM information_schema.COLUMNS WHERE TABLE_NAME ='cc_case_location' and TABLE_SCHEMA=\\'%s\\';\" % user)\n",
    "    results = cursor.fetchall()\n",
    "\n",
    "print(\"Columns in table:\")\n",
    "for row in results:\n",
    "    print(row)"
   ]
  },
  {
   "attachments": {
    "Final_project_ERD.png": {
     "image/png": "[encoded data removed]"
    }
   },
   "cell_type": "markdown",
   "metadata": {},
   "source": [
    "## Construct and embed your Entity Relationship Diagram\n",
    "\n",
    "Upload your ERD image to the \"final_project\" folder and update the markdown below to display it here:\n",
    "\n",
    "![Final_project_ERD.png](attachment:Final_project_ERD.png)"
   ]
  },
  {
   "cell_type": "markdown",
   "metadata": {},
   "source": [
    "# Perform the ETL of the source data to your SSO dsa_student Chicago Crime Database\n",
    "\n",
    "* Establish a connection to the the SQLite source database using sqlAlchemy\n",
    "* Establish a connection to your SSQ dsa_student postgres server destination database using sqlAlchemy\n",
    "* Peform ETL of the source data tables to the destination data tables incrementally.\n",
    "  * You may want to consider using pandas as the medium between the two databases \n",
    "     * it can easliy read sql table data\n",
    "     * hold data in a data frame\n",
    "     * make any necessary transformations to data values\n",
    "     * write to sql table data\n",
    "    "
   ]
  },
  {
   "cell_type": "code",
   "execution_count": 24,
   "metadata": {},
   "outputs": [
    {
     "name": "stdout",
     "output_type": "stream",
     "text": [
      "········\n"
     ]
    }
   ],
   "source": [
    "# ETL Here\n",
    "import getpass\n",
    "mypasswd = getpass.getpass()\n",
    "username = 'hc3ng'\n",
    "host = 'pgsql.dsa.lan'\n",
    "database = 'dsa_student'\n",
    "\n",
    "from sqlalchemy.engine.url import URL\n",
    "from sqlalchemy import create_engine\n",
    "\n",
    "# SQLAlchemy Connection Parameters\n",
    "postgres_db = {'drivername': 'postgres',\n",
    "               'username': username,\n",
    "               'password': mypasswd,\n",
    "               'host': host,\n",
    "               'database' :database}\n",
    "engine = create_engine(URL(**postgres_db), echo=False)\n"
   ]
  },
  {
   "cell_type": "code",
   "execution_count": 25,
   "metadata": {},
   "outputs": [],
   "source": [
    "del mypasswd\n"
   ]
  },
  {
   "cell_type": "code",
   "execution_count": 26,
   "metadata": {},
   "outputs": [],
   "source": [
    "source_engine = create_engine('sqlite:////dsa/data/DSA-7030/cc0122dbv2.sqlite.db')\n"
   ]
  },
  {
   "cell_type": "code",
   "execution_count": 27,
   "metadata": {
    "scrolled": true
   },
   "outputs": [],
   "source": [
    "#1 For cc_iucr_codes\n",
    "\n",
    "import pandas as pd\n",
    "\n",
    "read_table = pd.read_sql(\"SELECT * FROM cc_iucr_codes\", source_engine, chunksize=500)\n",
    "\n",
    "for chunk in read_table:\n",
    "    chunk.to_sql('cc_iucr_codes', engine,   \n",
    "    schema=username, \n",
    "    index=False,\n",
    "    if_exists = 'append')\n"
   ]
  },
  {
   "cell_type": "code",
   "execution_count": 28,
   "metadata": {
    "scrolled": true
   },
   "outputs": [],
   "source": [
    "#2 cc_nibrs_crimes_against \n",
    "\n",
    "import pandas as pd\n",
    "\n",
    "read_table = pd.read_sql(\"SELECT * FROM cc_nibrs_crimes_against\", source_engine, chunksize=500)\n",
    "\n",
    "for chunk in read_table:\n",
    "    chunk.to_sql('cc_nibrs_crimes_against', engine,   \n",
    "    schema=username, \n",
    "    index=False,\n",
    "    if_exists = 'append')"
   ]
  },
  {
   "cell_type": "code",
   "execution_count": 29,
   "metadata": {
    "scrolled": true
   },
   "outputs": [],
   "source": [
    "#3 cc_nibrs_categories \n",
    "\n",
    "import pandas as pd\n",
    "\n",
    "read_table = pd.read_sql(\"SELECT * FROM cc_nibrs_categories\", source_engine, chunksize=500)\n",
    "\n",
    "for chunk in read_table:\n",
    "    chunk.to_sql('cc_nibrs_categories', engine,   \n",
    "    schema=username, \n",
    "    index=False,\n",
    "    if_exists = 'append')"
   ]
  },
  {
   "cell_type": "code",
   "execution_count": 30,
   "metadata": {
    "scrolled": true
   },
   "outputs": [],
   "source": [
    "#4 cc_iucr_codes_primary_descriptions \n",
    "import pandas as pd\n",
    "\n",
    "read_table = pd.read_sql(\"SELECT * FROM cc_iucr_codes_primary_descriptions\", source_engine, chunksize=500)\n",
    "\n",
    "for chunk in read_table:\n",
    "    chunk.to_sql('cc_iucr_codes_primary_descriptions', engine,   \n",
    "    schema=username, \n",
    "    index=False,\n",
    "    if_exists = 'append')\n"
   ]
  },
  {
   "cell_type": "code",
   "execution_count": 31,
   "metadata": {
    "scrolled": true
   },
   "outputs": [],
   "source": [
    "#5 For cc_iucr_codes_secondary_descriptions\n",
    "import pandas as pd\n",
    "\n",
    "read_table = pd.read_sql(\"SELECT * FROM cc_iucr_codes_secondary_descriptions\", source_engine, chunksize=500)\n",
    "\n",
    "for chunk in read_table:\n",
    "    chunk.to_sql('cc_iucr_codes_secondary_descriptions', engine,   \n",
    "    schema=username, \n",
    "    index=False,\n",
    "    if_exists = 'append')\n"
   ]
  },
  {
   "cell_type": "code",
   "execution_count": 32,
   "metadata": {
    "scrolled": true
   },
   "outputs": [],
   "source": [
    "#6 cc_nibrs_fbicode_offenses\n",
    "import pandas as pd\n",
    "\n",
    "read_table = pd.read_sql(\"SELECT * FROM cc_nibrs_fbicode_offenses\", source_engine, chunksize=500)\n",
    "\n",
    "for chunk in read_table:\n",
    "    chunk.to_sql('cc_nibrs_fbicode_offenses', engine,   \n",
    "    schema=username, \n",
    "    index=False,\n",
    "    if_exists = 'append')\n"
   ]
  },
  {
   "cell_type": "code",
   "execution_count": 33,
   "metadata": {
    "scrolled": true
   },
   "outputs": [],
   "source": [
    "#7 cc_nibrs_offenses_crimes_aginst \n",
    "\n",
    "import pandas as pd\n",
    "\n",
    "read_table = pd.read_sql(\"SELECT * FROM cc_nibrs_offenses_crimes_aginst\", source_engine, chunksize=500)\n",
    "\n",
    "for chunk in read_table:\n",
    "    chunk.to_sql('cc_nibrs_offenses_crimes_aginst', engine,   \n",
    "    schema=username, \n",
    "    index=False,\n",
    "    if_exists = 'append')\n"
   ]
  },
  {
   "cell_type": "code",
   "execution_count": 38,
   "metadata": {},
   "outputs": [],
   "source": [
    "#8 cc_cases\n",
    "\n",
    "import pandas as pd\n",
    "\n",
    "read_table = pd.read_sql(\"SELECT * FROM cc_cases\", source_engine, chunksize=10000)\n",
    "\n",
    "for chunk in read_table:\n",
    "    chunk.to_sql('cc_cases', engine,   \n",
    "    schema=username, \n",
    "    index=False,\n",
    "    if_exists = 'append')\n"
   ]
  },
  {
   "cell_type": "code",
   "execution_count": 47,
   "metadata": {},
   "outputs": [],
   "source": [
    "#9 For cc_case_location table \n",
    "import pandas as pd\n",
    "\n",
    "read_table = pd.read_sql(\"SELECT * FROM cc_case_location\", source_engine, chunksize=1000)\n",
    "\n",
    "for chunk in read_table:\n",
    "    chunk.to_sql('cc_case_location', engine,   \n",
    "    schema=username, \n",
    "    index=False,\n",
    "    if_exists = 'append')\n"
   ]
  },
  {
   "cell_type": "markdown",
   "metadata": {},
   "source": [
    "# Execute SQL DML commands to confirm the table record counts for the destination database tables are consistent with the source database table record counts"
   ]
  },
  {
   "cell_type": "code",
   "execution_count": null,
   "metadata": {},
   "outputs": [],
   "source": [
    "# Confirm counts here"
   ]
  },
  {
   "cell_type": "raw",
   "metadata": {},
   "source": [
    "#1 For cc_iucr_codes\n",
    "dsa_student=> select count (*) from cc_iucr_codes;\n",
    " count\n",
    "-------\n",
    "   520\n",
    "(1 row)"
   ]
  },
  {
   "cell_type": "raw",
   "metadata": {},
   "source": [
    "#1 For cc_nibrs_crimes_against\n",
    "dsa_student=> select count (*) from cc_nibrs_crimes_against;\n",
    " count\n",
    "-------\n",
    "     4\n",
    "(1 row)\n"
   ]
  },
  {
   "cell_type": "raw",
   "metadata": {},
   "source": [
    "#3 For cc_nibrs_categories\n",
    "dsa_student=> select count (*) from cc_nibrs_categories;\n",
    " count\n",
    "-------\n",
    "    90\n",
    "(1 row)\n"
   ]
  },
  {
   "cell_type": "raw",
   "metadata": {},
   "source": [
    "#4 \n",
    "dsa_student=> select count (*) from cc_iucr_codes_primary_descriptions;\n",
    " count\n",
    "-------\n",
    "   401\n",
    "(1 row)"
   ]
  },
  {
   "cell_type": "raw",
   "metadata": {},
   "source": [
    "#5 For cc_iucr_codes_secondary_descriptions\n",
    "dsa_student=> select count (*) from cc_iucr_codes_secondary_descriptions;\n",
    " count\n",
    "-------\n",
    "   401\n",
    "(1 row)"
   ]
  },
  {
   "cell_type": "raw",
   "metadata": {},
   "source": [
    "#6 For cc_nibrs_fbicode_offenses\n",
    "dsa_student=> select count (*) from cc_nibrs_fbicode_offenses;\n",
    " count\n",
    "-------\n",
    "    90\n",
    "(1 row)\n"
   ]
  },
  {
   "cell_type": "raw",
   "metadata": {},
   "source": [
    "#7 For cc_nibrs_offenses_crimes_aginst\n",
    "dsa_student=> select count (*) from cc_nibrs_offenses_crimes_aginst\n",
    ";\n",
    " count\n",
    "-------\n",
    "    64\n",
    "(1 row)"
   ]
  },
  {
   "cell_type": "raw",
   "metadata": {},
   "source": [
    "#8 For cc_cases\n",
    "dsa_student=> select count (*) from cc_cases;\n",
    "  count\n",
    "---------\n",
    " 7676541\n",
    "(1 row)\n"
   ]
  },
  {
   "cell_type": "raw",
   "metadata": {},
   "source": [
    "#9 For cc_case_location\n",
    "dsa_student=> select count (*) from cc_case_location;\n",
    "  count\n",
    "---------\n",
    " 7676541\n",
    "(1 row)\n",
    "\n"
   ]
  },
  {
   "cell_type": "code",
   "execution_count": null,
   "metadata": {},
   "outputs": [],
   "source": []
  },
  {
   "cell_type": "markdown",
   "metadata": {},
   "source": [
    "## This is the end of Part 1 of the Final Project \n",
    "### Part 2 will be deployed in Module 8."
   ]
  },
  {
   "cell_type": "markdown",
   "metadata": {},
   "source": [
    "# Save your notebook, then `File > Close and Halt`"
   ]
  }
 ],
 "metadata": {
  "kernelspec": {
   "display_name": "Python 3",
   "language": "python",
   "name": "python3"
  },
  "language_info": {
   "codemirror_mode": {
    "name": "ipython",
    "version": 3
   },
   "file_extension": ".py",
   "mimetype": "text/x-python",
   "name": "python",
   "nbconvert_exporter": "python",
   "pygments_lexer": "ipython3",
   "version": "3.7.10"
  },
  "latex_envs": {
   "LaTeX_envs_menu_present": true,
   "bibliofile": "biblio.bib",
   "cite_by": "apalike",
   "current_citInitial": 1,
   "eqLabelWithNumbers": true,
   "eqNumInitial": 1,
   "labels_anchors": false,
   "latex_user_defs": false,
   "report_style_numbering": false,
   "user_envs_cfg": false
  },
  "toc": {
   "colors": {
    "hover_highlight": "#DAA520",
    "running_highlight": "#FF0000",
    "selected_highlight": "#FFD700"
   },
   "moveMenuLeft": true,
   "nav_menu": {
    "height": "11.9886px",
    "width": "251.989px"
   },
   "navigate_menu": true,
   "number_sections": true,
   "sideBar": true,
   "threshold": 4,
   "toc_cell": true,
   "toc_section_display": "block",
   "toc_window_display": false
  }
 },
 "nbformat": 4,
 "nbformat_minor": 4
}
