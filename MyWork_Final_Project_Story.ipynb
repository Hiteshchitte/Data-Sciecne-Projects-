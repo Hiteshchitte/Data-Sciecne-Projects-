{
 "cells": [
  {
   "cell_type": "markdown",
   "metadata": {},
   "source": [
    "# Module 8 - Final Project\n",
    "\n",
    "You have made it to the end of the course, and you have worked hard to develop your DSA perspectives and skills.  So far we have been internally focused on the operations of performing data science and analytics.  Now we will extend our work to the development of a data story that is externally focused.\n",
    "\n",
    "In the Module8 labs, you saw simplified examples of constructing data stories. In module4 (Database) there also was an abbreviated example data story.  Throughout the course, there are components and parts useful to consider as a basis for developing a short, unique, focused data story.\n",
    "\n",
    "\n",
    "For this final project, you will \n",
    "\n",
    "- Step 0: Choose your Language for this Adventure\n",
    "\n",
    "- Step 1: Find a Story\n",
    "\n",
    "- Step 2: Remember your Audience\n",
    "\n",
    "- Step 3: Find and Stage Your Data\n",
    "\n",
    "- Step 4: Vet Data Sources\n",
    "\n",
    "- Step 5: Filter Results and Build/Validate Models\n",
    "\n",
    "- Step 6: Visualize Results\n",
    "\n",
    "- Step 7: Communicate the Story to your intended audience using visualizations and narratives\n",
    "\n",
    "- Final Step: Connect your workflow/process to the DSA-Project Life Cycle\n",
    "\n",
    "---\n",
    "Here are some recommendations for managing the scope and quality of this project:\n",
    "\n",
    "- Narrow down the issue, problem, question, or hypothesis for you data story to a single, relatively simple perspective.\n",
    "\n",
    "- Identify already available data that affords addressing your problem.  If using completely new data, know it well.\n",
    "\n",
    "- Address the data relative to the statistical/machine learning model(s) chosen to minimize any issues.\n",
    "\n",
    "- Internally document your code using comments that explain the purpose of the operation(s).\n",
    "\n",
    "\n",
    "Make your project unique by\n",
    "\n",
    "- Comparing two or more different statistical/machine learning models using the same data.\n",
    "- Refrain from identically replicating any existing projects obtained from external sources.\n",
    "- Running a single model multiple times and changing a different single parameter each time for comparison.\n",
    "- Changing the sampling proportions for building the hold-out data and comparing the same model performance repeatedly.\n",
    "- Select something you find interesting or unique in the data and write a story around it.\n",
    "\n",
    "\n"
   ]
  },
  {
   "cell_type": "markdown",
   "metadata": {},
   "source": [
    "## Step 0: Choose your Language for this Adventure:"
   ]
  },
  {
   "cell_type": "markdown",
   "metadata": {},
   "source": [
    "For this project I will be using `Python` Language"
   ]
  },
  {
   "cell_type": "markdown",
   "metadata": {},
   "source": [
    "## Step 1: Find a Story\n",
    "\n",
    "Think back to any of the data files we have used in this class. \n",
    "Alternatively, you can search online for potential data and story ideas.\n",
    "\n",
    "In the cell below, please detail the source of your data (with link).\n",
    "Additionally, preview the story you hope to uncover."
   ]
  },
  {
   "cell_type": "markdown",
   "metadata": {},
   "source": [
    "The goal is of predicting the quality of the wine using the results of physicochemical tests. The data set are of the vinho verde wine samples from Portugal. (Reference:- UCI website https://archive.ics.uci.edu/ml/datasets/Wine+Quality)"
   ]
  },
  {
   "cell_type": "markdown",
   "metadata": {},
   "source": [
    "## Step 2: Remember your Audience\n",
    "\n",
    "In the cell below, describe your audience!\n",
    " * Who will the audience be?\n",
    " * What value will they derive from your story?"
   ]
  },
  {
   "cell_type": "markdown",
   "metadata": {},
   "source": [
    "Who will the audience be?\n",
    "\n",
    "I think that this data set and the project will be very useful for industrial purposes, in manufacturing of the wine and also for the wine enthusiast who wants to know the technical details of the wine. \n",
    "\n",
    "What value will they derive from your story?\n",
    "\n",
    "I think that this project we add a value to wine making process.  "
   ]
  },
  {
   "cell_type": "markdown",
   "metadata": {},
   "source": [
    "## Step 3: Find and Stage Your Data"
   ]
  },
  {
   "cell_type": "markdown",
   "metadata": {},
   "source": [
    "The name of the file that is uploaded in the JupyterHub environment is `\"white.csv\"` . Path for the file is `modules/module8/exercises/myData/white.csv`"
   ]
  },
  {
   "cell_type": "markdown",
   "metadata": {},
   "source": [
    "## Step 4: Vet Data Sources"
   ]
  },
  {
   "cell_type": "markdown",
   "metadata": {},
   "source": [
    "\n",
    "We will stat with setting up the development environment by importing libraries or packages needed for this project. "
   ]
  },
  {
   "cell_type": "code",
   "execution_count": 22,
   "metadata": {},
   "outputs": [],
   "source": [
    "import numpy as np\n",
    "import pandas as pd\n",
    "import matplotlib.pyplot as plt \n",
    "import seaborn as sns\n",
    "from plotnine import *\n",
    "import warnings\n",
    "warnings.filterwarnings('ignore')\n",
    "from sklearn.naive_bayes import GaussianNB\n",
    "from sklearn import linear_model\n"
   ]
  },
  {
   "cell_type": "markdown",
   "metadata": {},
   "source": [
    "We will now read in the csv file \"white.csv\" and print it to look at the data we have for this project "
   ]
  },
  {
   "cell_type": "code",
   "execution_count": 23,
   "metadata": {},
   "outputs": [
    {
     "data": {
      "text/html": [
       "<div>\n",
       "<style scoped>\n",
       "    .dataframe tbody tr th:only-of-type {\n",
       "        vertical-align: middle;\n",
       "    }\n",
       "\n",
       "    .dataframe tbody tr th {\n",
       "        vertical-align: top;\n",
       "    }\n",
       "\n",
       "    .dataframe thead th {\n",
       "        text-align: right;\n",
       "    }\n",
       "</style>\n",
       "<table border=\"1\" class=\"dataframe\">\n",
       "  <thead>\n",
       "    <tr style=\"text-align: right;\">\n",
       "      <th></th>\n",
       "      <th>fixed acidity</th>\n",
       "      <th>volatile aciditiy</th>\n",
       "      <th>citric acidity</th>\n",
       "      <th>residual sugar</th>\n",
       "      <th>chlorides</th>\n",
       "      <th>free sulfur dioxide</th>\n",
       "      <th>total sulfur dioxide</th>\n",
       "      <th>density</th>\n",
       "      <th>pH</th>\n",
       "      <th>sulphates</th>\n",
       "      <th>alcohol</th>\n",
       "      <th>quality</th>\n",
       "    </tr>\n",
       "  </thead>\n",
       "  <tbody>\n",
       "    <tr>\n",
       "      <th>0</th>\n",
       "      <td>7.0</td>\n",
       "      <td>0.27</td>\n",
       "      <td>0.36</td>\n",
       "      <td>20.7</td>\n",
       "      <td>0.045</td>\n",
       "      <td>45.0</td>\n",
       "      <td>170.0</td>\n",
       "      <td>1.0010</td>\n",
       "      <td>3.00</td>\n",
       "      <td>0.45</td>\n",
       "      <td>8.8</td>\n",
       "      <td>6</td>\n",
       "    </tr>\n",
       "    <tr>\n",
       "      <th>1</th>\n",
       "      <td>6.3</td>\n",
       "      <td>0.30</td>\n",
       "      <td>0.34</td>\n",
       "      <td>1.6</td>\n",
       "      <td>0.049</td>\n",
       "      <td>14.0</td>\n",
       "      <td>132.0</td>\n",
       "      <td>0.9940</td>\n",
       "      <td>3.30</td>\n",
       "      <td>0.49</td>\n",
       "      <td>9.5</td>\n",
       "      <td>6</td>\n",
       "    </tr>\n",
       "    <tr>\n",
       "      <th>2</th>\n",
       "      <td>8.1</td>\n",
       "      <td>0.28</td>\n",
       "      <td>0.40</td>\n",
       "      <td>6.9</td>\n",
       "      <td>0.050</td>\n",
       "      <td>30.0</td>\n",
       "      <td>97.0</td>\n",
       "      <td>0.9951</td>\n",
       "      <td>3.26</td>\n",
       "      <td>0.44</td>\n",
       "      <td>10.1</td>\n",
       "      <td>6</td>\n",
       "    </tr>\n",
       "    <tr>\n",
       "      <th>3</th>\n",
       "      <td>7.2</td>\n",
       "      <td>0.23</td>\n",
       "      <td>0.32</td>\n",
       "      <td>8.5</td>\n",
       "      <td>0.058</td>\n",
       "      <td>47.0</td>\n",
       "      <td>186.0</td>\n",
       "      <td>0.9956</td>\n",
       "      <td>3.19</td>\n",
       "      <td>0.40</td>\n",
       "      <td>9.9</td>\n",
       "      <td>6</td>\n",
       "    </tr>\n",
       "    <tr>\n",
       "      <th>4</th>\n",
       "      <td>7.2</td>\n",
       "      <td>0.23</td>\n",
       "      <td>0.32</td>\n",
       "      <td>8.5</td>\n",
       "      <td>0.058</td>\n",
       "      <td>47.0</td>\n",
       "      <td>186.0</td>\n",
       "      <td>0.9956</td>\n",
       "      <td>3.19</td>\n",
       "      <td>0.40</td>\n",
       "      <td>9.9</td>\n",
       "      <td>6</td>\n",
       "    </tr>\n",
       "  </tbody>\n",
       "</table>\n",
       "</div>"
      ],
      "text/plain": [
       "   fixed acidity  volatile aciditiy  citric acidity  residual sugar  \\\n",
       "0            7.0               0.27            0.36            20.7   \n",
       "1            6.3               0.30            0.34             1.6   \n",
       "2            8.1               0.28            0.40             6.9   \n",
       "3            7.2               0.23            0.32             8.5   \n",
       "4            7.2               0.23            0.32             8.5   \n",
       "\n",
       "   chlorides  free sulfur dioxide  total sulfur dioxide  density    pH  \\\n",
       "0      0.045                 45.0                 170.0   1.0010  3.00   \n",
       "1      0.049                 14.0                 132.0   0.9940  3.30   \n",
       "2      0.050                 30.0                  97.0   0.9951  3.26   \n",
       "3      0.058                 47.0                 186.0   0.9956  3.19   \n",
       "4      0.058                 47.0                 186.0   0.9956  3.19   \n",
       "\n",
       "   sulphates  alcohol  quality  \n",
       "0       0.45      8.8        6  \n",
       "1       0.49      9.5        6  \n",
       "2       0.44     10.1        6  \n",
       "3       0.40      9.9        6  \n",
       "4       0.40      9.9        6  "
      ]
     },
     "execution_count": 23,
     "metadata": {},
     "output_type": "execute_result"
    }
   ],
   "source": [
    "df = pd.read_csv('myData/white.csv', sep=\",\")\n",
    "df.head()"
   ]
  },
  {
   "cell_type": "markdown",
   "metadata": {},
   "source": [
    "We will now run the describe funtion to get the summary of our dataframe."
   ]
  },
  {
   "cell_type": "code",
   "execution_count": 24,
   "metadata": {},
   "outputs": [
    {
     "data": {
      "text/html": [
       "<div>\n",
       "<style scoped>\n",
       "    .dataframe tbody tr th:only-of-type {\n",
       "        vertical-align: middle;\n",
       "    }\n",
       "\n",
       "    .dataframe tbody tr th {\n",
       "        vertical-align: top;\n",
       "    }\n",
       "\n",
       "    .dataframe thead th {\n",
       "        text-align: right;\n",
       "    }\n",
       "</style>\n",
       "<table border=\"1\" class=\"dataframe\">\n",
       "  <thead>\n",
       "    <tr style=\"text-align: right;\">\n",
       "      <th></th>\n",
       "      <th>fixed acidity</th>\n",
       "      <th>volatile aciditiy</th>\n",
       "      <th>citric acidity</th>\n",
       "      <th>residual sugar</th>\n",
       "      <th>chlorides</th>\n",
       "      <th>free sulfur dioxide</th>\n",
       "      <th>total sulfur dioxide</th>\n",
       "      <th>density</th>\n",
       "      <th>pH</th>\n",
       "      <th>sulphates</th>\n",
       "      <th>alcohol</th>\n",
       "      <th>quality</th>\n",
       "    </tr>\n",
       "  </thead>\n",
       "  <tbody>\n",
       "    <tr>\n",
       "      <th>count</th>\n",
       "      <td>4898.000000</td>\n",
       "      <td>4873.000000</td>\n",
       "      <td>4897.000000</td>\n",
       "      <td>4897.000000</td>\n",
       "      <td>4895.000000</td>\n",
       "      <td>4896.000000</td>\n",
       "      <td>4895.000000</td>\n",
       "      <td>4893.000000</td>\n",
       "      <td>4896.000000</td>\n",
       "      <td>4898.000000</td>\n",
       "      <td>4882.000000</td>\n",
       "      <td>4898.000000</td>\n",
       "    </tr>\n",
       "    <tr>\n",
       "      <th>mean</th>\n",
       "      <td>6.854788</td>\n",
       "      <td>0.278236</td>\n",
       "      <td>0.334203</td>\n",
       "      <td>6.389187</td>\n",
       "      <td>0.045773</td>\n",
       "      <td>35.310662</td>\n",
       "      <td>138.379265</td>\n",
       "      <td>0.994029</td>\n",
       "      <td>3.188286</td>\n",
       "      <td>0.489847</td>\n",
       "      <td>10.514170</td>\n",
       "      <td>5.877909</td>\n",
       "    </tr>\n",
       "    <tr>\n",
       "      <th>std</th>\n",
       "      <td>0.843868</td>\n",
       "      <td>0.100855</td>\n",
       "      <td>0.121030</td>\n",
       "      <td>5.070179</td>\n",
       "      <td>0.021854</td>\n",
       "      <td>17.009365</td>\n",
       "      <td>42.496115</td>\n",
       "      <td>0.002992</td>\n",
       "      <td>0.150950</td>\n",
       "      <td>0.114126</td>\n",
       "      <td>1.230577</td>\n",
       "      <td>0.885639</td>\n",
       "    </tr>\n",
       "    <tr>\n",
       "      <th>min</th>\n",
       "      <td>3.800000</td>\n",
       "      <td>0.080000</td>\n",
       "      <td>0.000000</td>\n",
       "      <td>0.600000</td>\n",
       "      <td>0.009000</td>\n",
       "      <td>2.000000</td>\n",
       "      <td>9.000000</td>\n",
       "      <td>0.987110</td>\n",
       "      <td>2.720000</td>\n",
       "      <td>0.220000</td>\n",
       "      <td>8.000000</td>\n",
       "      <td>3.000000</td>\n",
       "    </tr>\n",
       "    <tr>\n",
       "      <th>25%</th>\n",
       "      <td>6.300000</td>\n",
       "      <td>0.210000</td>\n",
       "      <td>0.270000</td>\n",
       "      <td>1.700000</td>\n",
       "      <td>0.036000</td>\n",
       "      <td>23.000000</td>\n",
       "      <td>108.000000</td>\n",
       "      <td>0.991720</td>\n",
       "      <td>3.090000</td>\n",
       "      <td>0.410000</td>\n",
       "      <td>9.500000</td>\n",
       "      <td>5.000000</td>\n",
       "    </tr>\n",
       "    <tr>\n",
       "      <th>50%</th>\n",
       "      <td>6.800000</td>\n",
       "      <td>0.260000</td>\n",
       "      <td>0.320000</td>\n",
       "      <td>5.200000</td>\n",
       "      <td>0.043000</td>\n",
       "      <td>34.000000</td>\n",
       "      <td>134.000000</td>\n",
       "      <td>0.993750</td>\n",
       "      <td>3.180000</td>\n",
       "      <td>0.470000</td>\n",
       "      <td>10.400000</td>\n",
       "      <td>6.000000</td>\n",
       "    </tr>\n",
       "    <tr>\n",
       "      <th>75%</th>\n",
       "      <td>7.300000</td>\n",
       "      <td>0.320000</td>\n",
       "      <td>0.390000</td>\n",
       "      <td>9.900000</td>\n",
       "      <td>0.050000</td>\n",
       "      <td>46.000000</td>\n",
       "      <td>167.000000</td>\n",
       "      <td>0.996100</td>\n",
       "      <td>3.280000</td>\n",
       "      <td>0.550000</td>\n",
       "      <td>11.400000</td>\n",
       "      <td>6.000000</td>\n",
       "    </tr>\n",
       "    <tr>\n",
       "      <th>max</th>\n",
       "      <td>14.200000</td>\n",
       "      <td>1.100000</td>\n",
       "      <td>1.660000</td>\n",
       "      <td>65.800000</td>\n",
       "      <td>0.346000</td>\n",
       "      <td>289.000000</td>\n",
       "      <td>440.000000</td>\n",
       "      <td>1.038980</td>\n",
       "      <td>3.820000</td>\n",
       "      <td>1.080000</td>\n",
       "      <td>14.200000</td>\n",
       "      <td>9.000000</td>\n",
       "    </tr>\n",
       "  </tbody>\n",
       "</table>\n",
       "</div>"
      ],
      "text/plain": [
       "       fixed acidity  volatile aciditiy  citric acidity  residual sugar  \\\n",
       "count    4898.000000        4873.000000     4897.000000     4897.000000   \n",
       "mean        6.854788           0.278236        0.334203        6.389187   \n",
       "std         0.843868           0.100855        0.121030        5.070179   \n",
       "min         3.800000           0.080000        0.000000        0.600000   \n",
       "25%         6.300000           0.210000        0.270000        1.700000   \n",
       "50%         6.800000           0.260000        0.320000        5.200000   \n",
       "75%         7.300000           0.320000        0.390000        9.900000   \n",
       "max        14.200000           1.100000        1.660000       65.800000   \n",
       "\n",
       "         chlorides  free sulfur dioxide  total sulfur dioxide      density  \\\n",
       "count  4895.000000          4896.000000           4895.000000  4893.000000   \n",
       "mean      0.045773            35.310662            138.379265     0.994029   \n",
       "std       0.021854            17.009365             42.496115     0.002992   \n",
       "min       0.009000             2.000000              9.000000     0.987110   \n",
       "25%       0.036000            23.000000            108.000000     0.991720   \n",
       "50%       0.043000            34.000000            134.000000     0.993750   \n",
       "75%       0.050000            46.000000            167.000000     0.996100   \n",
       "max       0.346000           289.000000            440.000000     1.038980   \n",
       "\n",
       "                pH    sulphates      alcohol      quality  \n",
       "count  4896.000000  4898.000000  4882.000000  4898.000000  \n",
       "mean      3.188286     0.489847    10.514170     5.877909  \n",
       "std       0.150950     0.114126     1.230577     0.885639  \n",
       "min       2.720000     0.220000     8.000000     3.000000  \n",
       "25%       3.090000     0.410000     9.500000     5.000000  \n",
       "50%       3.180000     0.470000    10.400000     6.000000  \n",
       "75%       3.280000     0.550000    11.400000     6.000000  \n",
       "max       3.820000     1.080000    14.200000     9.000000  "
      ]
     },
     "execution_count": 24,
     "metadata": {},
     "output_type": "execute_result"
    }
   ],
   "source": [
    "df.describe()\n"
   ]
  },
  {
   "cell_type": "code",
   "execution_count": 25,
   "metadata": {},
   "outputs": [
    {
     "data": {
      "text/plain": [
       "(4898, 12)"
      ]
     },
     "execution_count": 25,
     "metadata": {},
     "output_type": "execute_result"
    }
   ],
   "source": [
    "df.shape \n"
   ]
  },
  {
   "cell_type": "markdown",
   "metadata": {},
   "source": [
    "Looking at the summary we understand that the data dosen't have any negative or invalid values present in it. Also we have the mean, standard deviation, quartile values ,etc of out data frame. Now we will look into the data frame if we have any null or NaN values present as this might affect our final output. "
   ]
  },
  {
   "cell_type": "code",
   "execution_count": 26,
   "metadata": {},
   "outputs": [
    {
     "data": {
      "text/plain": [
       "fixed acidity            0\n",
       "volatile aciditiy       25\n",
       "citric acidity           1\n",
       "residual sugar           1\n",
       "chlorides                3\n",
       "free sulfur dioxide      2\n",
       "total sulfur dioxide     3\n",
       "density                  5\n",
       "pH                       2\n",
       "sulphates                0\n",
       "alcohol                 16\n",
       "quality                  0\n",
       "dtype: int64"
      ]
     },
     "execution_count": 26,
     "metadata": {},
     "output_type": "execute_result"
    }
   ],
   "source": [
    "df.isnull().sum()"
   ]
  },
  {
   "cell_type": "markdown",
   "metadata": {},
   "source": [
    "\n",
    "We can see that there are many NaN values present in the dataframe. To solve this we will take the mean value of the column and fill it in place of the NaN values."
   ]
  },
  {
   "cell_type": "code",
   "execution_count": 27,
   "metadata": {},
   "outputs": [],
   "source": [
    "df['volatile aciditiy']=df['volatile aciditiy'].fillna((df['volatile aciditiy'].mean()))\n",
    "df['citric acidity']=df['citric acidity'].fillna((df['citric acidity'].mean()))\n",
    "df['residual sugar']=df['residual sugar'].fillna((df['residual sugar'].mean()))\n",
    "df['chlorides']=df['chlorides'].fillna((df['chlorides'].mean()))\n",
    "df['free sulfur dioxide']=df['free sulfur dioxide'].fillna((df['free sulfur dioxide'].mean()))\n",
    "df['total sulfur dioxide']=df['total sulfur dioxide'].fillna((df['volatile aciditiy'].mean()))\n",
    "df['density']=df['density'].fillna((df['density'].mean()))\n",
    "df['pH']=df['pH'].fillna((df['pH'].mean()))\n",
    "df['alcohol']=df['alcohol'].fillna((df['alcohol'].mean()))\n",
    "df['quality']=df['quality'].fillna((df['quality'].mean()))\n",
    "\n"
   ]
  },
  {
   "cell_type": "markdown",
   "metadata": {},
   "source": [
    "We will run the isnull() function again to check if the above code has ran successfully or not "
   ]
  },
  {
   "cell_type": "code",
   "execution_count": 28,
   "metadata": {},
   "outputs": [
    {
     "data": {
      "text/plain": [
       "fixed acidity           0\n",
       "volatile aciditiy       0\n",
       "citric acidity          0\n",
       "residual sugar          0\n",
       "chlorides               0\n",
       "free sulfur dioxide     0\n",
       "total sulfur dioxide    0\n",
       "density                 0\n",
       "pH                      0\n",
       "sulphates               0\n",
       "alcohol                 0\n",
       "quality                 0\n",
       "dtype: int64"
      ]
     },
     "execution_count": 28,
     "metadata": {},
     "output_type": "execute_result"
    }
   ],
   "source": [
    "df.isnull().sum()"
   ]
  },
  {
   "cell_type": "markdown",
   "metadata": {},
   "source": [
    "We can now see that the there are no null values as they are replaced by the mean values. "
   ]
  },
  {
   "cell_type": "markdown",
   "metadata": {},
   "source": [
    "## Step 5: Filter Results and Build and Validate Models"
   ]
  },
  {
   "cell_type": "markdown",
   "metadata": {},
   "source": [
    "As our final goal is to predict the quality of the wine, our target variable or target column is the \"quality\" column. So, in order to check the unique values present in the \"quality\" column we will run the unique() function. "
   ]
  },
  {
   "cell_type": "code",
   "execution_count": 29,
   "metadata": {},
   "outputs": [
    {
     "data": {
      "text/plain": [
       "[3, 4, 5, 6, 7, 8, 9]"
      ]
     },
     "execution_count": 29,
     "metadata": {},
     "output_type": "execute_result"
    }
   ],
   "source": [
    "sorted(df['quality'].unique())\n"
   ]
  },
  {
   "cell_type": "markdown",
   "metadata": {},
   "source": [
    "The above out put shows us that the range of the quality of wine lies between 3 and 9. "
   ]
  },
  {
   "cell_type": "markdown",
   "metadata": {},
   "source": [
    "We will see how the wine data is distributed between the range of quality in the dataset."
   ]
  },
  {
   "cell_type": "code",
   "execution_count": 30,
   "metadata": {},
   "outputs": [
    {
     "data": {
      "text/plain": [
       "3      20\n",
       "4     163\n",
       "5    1457\n",
       "6    2198\n",
       "7     880\n",
       "8     175\n",
       "9       5\n",
       "Name: quality, dtype: int64"
      ]
     },
     "execution_count": 30,
     "metadata": {},
     "output_type": "execute_result"
    }
   ],
   "source": [
    "count = df.quality.value_counts().sort_index()\n",
    "count"
   ]
  },
  {
   "cell_type": "code",
   "execution_count": 31,
   "metadata": {},
   "outputs": [
    {
     "data": {
      "text/plain": [
       "<matplotlib.axes._subplots.AxesSubplot at 0x7f72ab2a7898>"
      ]
     },
     "execution_count": 31,
     "metadata": {},
     "output_type": "execute_result"
    },
    {
     "data": {
      "image/png": "[encoded data removed]",
      "text/plain": [
       "<Figure size 432x288 with 1 Axes>"
      ]
     },
     "metadata": {
      "needs_background": "light"
     },
     "output_type": "display_data"
    }
   ],
   "source": [
    "sns.countplot(x='quality', data=df)\n"
   ]
  },
  {
   "cell_type": "markdown",
   "metadata": {},
   "source": [
    "This distribution represents that the range of wine quality is between \"3 to 9\" and maximum of the wine lies between the range of \"5 to 7\". "
   ]
  },
  {
   "cell_type": "markdown",
   "metadata": {
    "scrolled": false
   },
   "source": [
    "We will now check the correlation between all of the colums present in the dataset."
   ]
  },
  {
   "cell_type": "code",
   "execution_count": 32,
   "metadata": {},
   "outputs": [
    {
     "data": {
      "text/html": [
       "<div>\n",
       "<style scoped>\n",
       "    .dataframe tbody tr th:only-of-type {\n",
       "        vertical-align: middle;\n",
       "    }\n",
       "\n",
       "    .dataframe tbody tr th {\n",
       "        vertical-align: top;\n",
       "    }\n",
       "\n",
       "    .dataframe thead th {\n",
       "        text-align: right;\n",
       "    }\n",
       "</style>\n",
       "<table border=\"1\" class=\"dataframe\">\n",
       "  <thead>\n",
       "    <tr style=\"text-align: right;\">\n",
       "      <th></th>\n",
       "      <th>fixed acidity</th>\n",
       "      <th>volatile aciditiy</th>\n",
       "      <th>citric acidity</th>\n",
       "      <th>residual sugar</th>\n",
       "      <th>chlorides</th>\n",
       "      <th>free sulfur dioxide</th>\n",
       "      <th>total sulfur dioxide</th>\n",
       "      <th>density</th>\n",
       "      <th>pH</th>\n",
       "      <th>sulphates</th>\n",
       "      <th>alcohol</th>\n",
       "      <th>quality</th>\n",
       "    </tr>\n",
       "  </thead>\n",
       "  <tbody>\n",
       "    <tr>\n",
       "      <th>fixed acidity</th>\n",
       "      <td>1.000000</td>\n",
       "      <td>-0.021165</td>\n",
       "      <td>0.289224</td>\n",
       "      <td>0.089195</td>\n",
       "      <td>0.022945</td>\n",
       "      <td>-0.049680</td>\n",
       "      <td>0.091203</td>\n",
       "      <td>0.265841</td>\n",
       "      <td>-0.426127</td>\n",
       "      <td>-0.017143</td>\n",
       "      <td>-0.121459</td>\n",
       "      <td>-0.113663</td>\n",
       "    </tr>\n",
       "    <tr>\n",
       "      <th>volatile aciditiy</th>\n",
       "      <td>-0.021165</td>\n",
       "      <td>1.000000</td>\n",
       "      <td>-0.147567</td>\n",
       "      <td>0.065497</td>\n",
       "      <td>0.070561</td>\n",
       "      <td>-0.097416</td>\n",
       "      <td>0.088925</td>\n",
       "      <td>0.028205</td>\n",
       "      <td>-0.032931</td>\n",
       "      <td>-0.036177</td>\n",
       "      <td>0.066325</td>\n",
       "      <td>-0.194283</td>\n",
       "    </tr>\n",
       "    <tr>\n",
       "      <th>citric acidity</th>\n",
       "      <td>0.289224</td>\n",
       "      <td>-0.147567</td>\n",
       "      <td>1.000000</td>\n",
       "      <td>0.094672</td>\n",
       "      <td>0.114375</td>\n",
       "      <td>0.094192</td>\n",
       "      <td>0.121754</td>\n",
       "      <td>0.149749</td>\n",
       "      <td>-0.164057</td>\n",
       "      <td>0.062244</td>\n",
       "      <td>-0.076676</td>\n",
       "      <td>-0.009093</td>\n",
       "    </tr>\n",
       "    <tr>\n",
       "      <th>residual sugar</th>\n",
       "      <td>0.089195</td>\n",
       "      <td>0.065497</td>\n",
       "      <td>0.094672</td>\n",
       "      <td>1.000000</td>\n",
       "      <td>0.088566</td>\n",
       "      <td>0.299623</td>\n",
       "      <td>0.400130</td>\n",
       "      <td>0.838399</td>\n",
       "      <td>-0.193756</td>\n",
       "      <td>-0.026447</td>\n",
       "      <td>-0.449303</td>\n",
       "      <td>-0.097684</td>\n",
       "    </tr>\n",
       "    <tr>\n",
       "      <th>chlorides</th>\n",
       "      <td>0.022945</td>\n",
       "      <td>0.070561</td>\n",
       "      <td>0.114375</td>\n",
       "      <td>0.088566</td>\n",
       "      <td>1.000000</td>\n",
       "      <td>0.101369</td>\n",
       "      <td>0.198409</td>\n",
       "      <td>0.257008</td>\n",
       "      <td>-0.090665</td>\n",
       "      <td>0.016792</td>\n",
       "      <td>-0.360197</td>\n",
       "      <td>-0.209931</td>\n",
       "    </tr>\n",
       "    <tr>\n",
       "      <th>free sulfur dioxide</th>\n",
       "      <td>-0.049680</td>\n",
       "      <td>-0.097416</td>\n",
       "      <td>0.094192</td>\n",
       "      <td>0.299623</td>\n",
       "      <td>0.101369</td>\n",
       "      <td>1.000000</td>\n",
       "      <td>0.614866</td>\n",
       "      <td>0.294281</td>\n",
       "      <td>-0.001047</td>\n",
       "      <td>0.058975</td>\n",
       "      <td>-0.248806</td>\n",
       "      <td>0.008613</td>\n",
       "    </tr>\n",
       "    <tr>\n",
       "      <th>total sulfur dioxide</th>\n",
       "      <td>0.091203</td>\n",
       "      <td>0.088925</td>\n",
       "      <td>0.121754</td>\n",
       "      <td>0.400130</td>\n",
       "      <td>0.198409</td>\n",
       "      <td>0.614866</td>\n",
       "      <td>1.000000</td>\n",
       "      <td>0.528151</td>\n",
       "      <td>0.000075</td>\n",
       "      <td>0.133429</td>\n",
       "      <td>-0.446204</td>\n",
       "      <td>-0.175066</td>\n",
       "    </tr>\n",
       "    <tr>\n",
       "      <th>density</th>\n",
       "      <td>0.265841</td>\n",
       "      <td>0.028205</td>\n",
       "      <td>0.149749</td>\n",
       "      <td>0.838399</td>\n",
       "      <td>0.257008</td>\n",
       "      <td>0.294281</td>\n",
       "      <td>0.528151</td>\n",
       "      <td>1.000000</td>\n",
       "      <td>-0.094755</td>\n",
       "      <td>0.074581</td>\n",
       "      <td>-0.778438</td>\n",
       "      <td>-0.307120</td>\n",
       "    </tr>\n",
       "    <tr>\n",
       "      <th>pH</th>\n",
       "      <td>-0.426127</td>\n",
       "      <td>-0.032931</td>\n",
       "      <td>-0.164057</td>\n",
       "      <td>-0.193756</td>\n",
       "      <td>-0.090665</td>\n",
       "      <td>-0.001047</td>\n",
       "      <td>0.000075</td>\n",
       "      <td>-0.094755</td>\n",
       "      <td>1.000000</td>\n",
       "      <td>0.156605</td>\n",
       "      <td>0.123107</td>\n",
       "      <td>0.100232</td>\n",
       "    </tr>\n",
       "    <tr>\n",
       "      <th>sulphates</th>\n",
       "      <td>-0.017143</td>\n",
       "      <td>-0.036177</td>\n",
       "      <td>0.062244</td>\n",
       "      <td>-0.026447</td>\n",
       "      <td>0.016792</td>\n",
       "      <td>0.058975</td>\n",
       "      <td>0.133429</td>\n",
       "      <td>0.074581</td>\n",
       "      <td>0.156605</td>\n",
       "      <td>1.000000</td>\n",
       "      <td>-0.018154</td>\n",
       "      <td>0.053678</td>\n",
       "    </tr>\n",
       "    <tr>\n",
       "      <th>alcohol</th>\n",
       "      <td>-0.121459</td>\n",
       "      <td>0.066325</td>\n",
       "      <td>-0.076676</td>\n",
       "      <td>-0.449303</td>\n",
       "      <td>-0.360197</td>\n",
       "      <td>-0.248806</td>\n",
       "      <td>-0.446204</td>\n",
       "      <td>-0.778438</td>\n",
       "      <td>0.123107</td>\n",
       "      <td>-0.018154</td>\n",
       "      <td>1.000000</td>\n",
       "      <td>0.435620</td>\n",
       "    </tr>\n",
       "    <tr>\n",
       "      <th>quality</th>\n",
       "      <td>-0.113663</td>\n",
       "      <td>-0.194283</td>\n",
       "      <td>-0.009093</td>\n",
       "      <td>-0.097684</td>\n",
       "      <td>-0.209931</td>\n",
       "      <td>0.008613</td>\n",
       "      <td>-0.175066</td>\n",
       "      <td>-0.307120</td>\n",
       "      <td>0.100232</td>\n",
       "      <td>0.053678</td>\n",
       "      <td>0.435620</td>\n",
       "      <td>1.000000</td>\n",
       "    </tr>\n",
       "  </tbody>\n",
       "</table>\n",
       "</div>"
      ],
      "text/plain": [
       "                      fixed acidity  volatile aciditiy  citric acidity  \\\n",
       "fixed acidity              1.000000          -0.021165        0.289224   \n",
       "volatile aciditiy         -0.021165           1.000000       -0.147567   \n",
       "citric acidity             0.289224          -0.147567        1.000000   \n",
       "residual sugar             0.089195           0.065497        0.094672   \n",
       "chlorides                  0.022945           0.070561        0.114375   \n",
       "free sulfur dioxide       -0.049680          -0.097416        0.094192   \n",
       "total sulfur dioxide       0.091203           0.088925        0.121754   \n",
       "density                    0.265841           0.028205        0.149749   \n",
       "pH                        -0.426127          -0.032931       -0.164057   \n",
       "sulphates                 -0.017143          -0.036177        0.062244   \n",
       "alcohol                   -0.121459           0.066325       -0.076676   \n",
       "quality                   -0.113663          -0.194283       -0.009093   \n",
       "\n",
       "                      residual sugar  chlorides  free sulfur dioxide  \\\n",
       "fixed acidity               0.089195   0.022945            -0.049680   \n",
       "volatile aciditiy           0.065497   0.070561            -0.097416   \n",
       "citric acidity              0.094672   0.114375             0.094192   \n",
       "residual sugar              1.000000   0.088566             0.299623   \n",
       "chlorides                   0.088566   1.000000             0.101369   \n",
       "free sulfur dioxide         0.299623   0.101369             1.000000   \n",
       "total sulfur dioxide        0.400130   0.198409             0.614866   \n",
       "density                     0.838399   0.257008             0.294281   \n",
       "pH                         -0.193756  -0.090665            -0.001047   \n",
       "sulphates                  -0.026447   0.016792             0.058975   \n",
       "alcohol                    -0.449303  -0.360197            -0.248806   \n",
       "quality                    -0.097684  -0.209931             0.008613   \n",
       "\n",
       "                      total sulfur dioxide   density        pH  sulphates  \\\n",
       "fixed acidity                     0.091203  0.265841 -0.426127  -0.017143   \n",
       "volatile aciditiy                 0.088925  0.028205 -0.032931  -0.036177   \n",
       "citric acidity                    0.121754  0.149749 -0.164057   0.062244   \n",
       "residual sugar                    0.400130  0.838399 -0.193756  -0.026447   \n",
       "chlorides                         0.198409  0.257008 -0.090665   0.016792   \n",
       "free sulfur dioxide               0.614866  0.294281 -0.001047   0.058975   \n",
       "total sulfur dioxide              1.000000  0.528151  0.000075   0.133429   \n",
       "density                           0.528151  1.000000 -0.094755   0.074581   \n",
       "pH                                0.000075 -0.094755  1.000000   0.156605   \n",
       "sulphates                         0.133429  0.074581  0.156605   1.000000   \n",
       "alcohol                          -0.446204 -0.778438  0.123107  -0.018154   \n",
       "quality                          -0.175066 -0.307120  0.100232   0.053678   \n",
       "\n",
       "                       alcohol   quality  \n",
       "fixed acidity        -0.121459 -0.113663  \n",
       "volatile aciditiy     0.066325 -0.194283  \n",
       "citric acidity       -0.076676 -0.009093  \n",
       "residual sugar       -0.449303 -0.097684  \n",
       "chlorides            -0.360197 -0.209931  \n",
       "free sulfur dioxide  -0.248806  0.008613  \n",
       "total sulfur dioxide -0.446204 -0.175066  \n",
       "density              -0.778438 -0.307120  \n",
       "pH                    0.123107  0.100232  \n",
       "sulphates            -0.018154  0.053678  \n",
       "alcohol               1.000000  0.435620  \n",
       "quality               0.435620  1.000000  "
      ]
     },
     "execution_count": 32,
     "metadata": {},
     "output_type": "execute_result"
    }
   ],
   "source": [
    "df.corr()"
   ]
  },
  {
   "cell_type": "markdown",
   "metadata": {},
   "source": [
    "But we need correlation of the every other feature with the quality of wine. "
   ]
  },
  {
   "cell_type": "code",
   "execution_count": 34,
   "metadata": {},
   "outputs": [
    {
     "data": {
      "text/plain": [
       "fixed acidity          -0.113663\n",
       "volatile aciditiy      -0.194283\n",
       "citric acidity         -0.009093\n",
       "residual sugar         -0.097684\n",
       "chlorides              -0.209931\n",
       "free sulfur dioxide     0.008613\n",
       "total sulfur dioxide   -0.175066\n",
       "density                -0.307120\n",
       "pH                      0.100232\n",
       "sulphates               0.053678\n",
       "alcohol                 0.435620\n",
       "quality                 1.000000\n",
       "Name: quality, dtype: float64"
      ]
     },
     "execution_count": 34,
     "metadata": {},
     "output_type": "execute_result"
    }
   ],
   "source": [
    "df.corr()['quality']"
   ]
  },
  {
   "cell_type": "code",
   "execution_count": 35,
   "metadata": {},
   "outputs": [
    {
     "data": {
      "text/plain": [
       "moderate    3655\n",
       "good        1060\n",
       "bad          183\n",
       "Name: wine_rating, dtype: int64"
      ]
     },
     "execution_count": 35,
     "metadata": {},
     "output_type": "execute_result"
    }
   ],
   "source": [
    "conditions = [\n",
    "    (df['quality'] >= 7),\n",
    "    (df['quality'] <= 4)\n",
    "]\n",
    "wine_rating = ['good', 'bad']\n",
    "df['wine_rating'] = np.select(conditions, wine_rating, default='moderate')\n",
    "df.wine_rating.value_counts()\n",
    "\n"
   ]
  },
  {
   "cell_type": "code",
   "execution_count": 36,
   "metadata": {},
   "outputs": [
    {
     "data": {
      "text/html": [
       "<div>\n",
       "<style scoped>\n",
       "    .dataframe tbody tr th:only-of-type {\n",
       "        vertical-align: middle;\n",
       "    }\n",
       "\n",
       "    .dataframe tbody tr th {\n",
       "        vertical-align: top;\n",
       "    }\n",
       "\n",
       "    .dataframe thead th {\n",
       "        text-align: right;\n",
       "    }\n",
       "</style>\n",
       "<table border=\"1\" class=\"dataframe\">\n",
       "  <thead>\n",
       "    <tr style=\"text-align: right;\">\n",
       "      <th></th>\n",
       "      <th>fixed acidity</th>\n",
       "      <th>volatile aciditiy</th>\n",
       "      <th>citric acidity</th>\n",
       "      <th>residual sugar</th>\n",
       "      <th>chlorides</th>\n",
       "      <th>free sulfur dioxide</th>\n",
       "      <th>total sulfur dioxide</th>\n",
       "      <th>density</th>\n",
       "      <th>pH</th>\n",
       "      <th>sulphates</th>\n",
       "      <th>alcohol</th>\n",
       "      <th>quality</th>\n",
       "    </tr>\n",
       "    <tr>\n",
       "      <th>wine_rating</th>\n",
       "      <th></th>\n",
       "      <th></th>\n",
       "      <th></th>\n",
       "      <th></th>\n",
       "      <th></th>\n",
       "      <th></th>\n",
       "      <th></th>\n",
       "      <th></th>\n",
       "      <th></th>\n",
       "      <th></th>\n",
       "      <th></th>\n",
       "      <th></th>\n",
       "    </tr>\n",
       "  </thead>\n",
       "  <tbody>\n",
       "    <tr>\n",
       "      <th>bad</th>\n",
       "      <td>7.180874</td>\n",
       "      <td>0.375974</td>\n",
       "      <td>0.307705</td>\n",
       "      <td>4.821038</td>\n",
       "      <td>0.050557</td>\n",
       "      <td>26.624648</td>\n",
       "      <td>129.894963</td>\n",
       "      <td>0.994343</td>\n",
       "      <td>3.183388</td>\n",
       "      <td>0.475956</td>\n",
       "      <td>10.178493</td>\n",
       "      <td>3.890710</td>\n",
       "    </tr>\n",
       "    <tr>\n",
       "      <th>good</th>\n",
       "      <td>6.725142</td>\n",
       "      <td>0.265273</td>\n",
       "      <td>0.326108</td>\n",
       "      <td>5.261509</td>\n",
       "      <td>0.038160</td>\n",
       "      <td>34.563972</td>\n",
       "      <td>125.133281</td>\n",
       "      <td>0.992412</td>\n",
       "      <td>3.215404</td>\n",
       "      <td>0.500142</td>\n",
       "      <td>11.415752</td>\n",
       "      <td>7.174528</td>\n",
       "    </tr>\n",
       "    <tr>\n",
       "      <th>moderate</th>\n",
       "      <td>6.876060</td>\n",
       "      <td>0.277102</td>\n",
       "      <td>0.337877</td>\n",
       "      <td>6.794744</td>\n",
       "      <td>0.047742</td>\n",
       "      <td>35.962107</td>\n",
       "      <td>142.532224</td>\n",
       "      <td>0.994482</td>\n",
       "      <td>3.180667</td>\n",
       "      <td>0.487557</td>\n",
       "      <td>10.269506</td>\n",
       "      <td>5.601368</td>\n",
       "    </tr>\n",
       "  </tbody>\n",
       "</table>\n",
       "</div>"
      ],
      "text/plain": [
       "             fixed acidity  volatile aciditiy  citric acidity  residual sugar  \\\n",
       "wine_rating                                                                     \n",
       "bad               7.180874           0.375974        0.307705        4.821038   \n",
       "good              6.725142           0.265273        0.326108        5.261509   \n",
       "moderate          6.876060           0.277102        0.337877        6.794744   \n",
       "\n",
       "             chlorides  free sulfur dioxide  total sulfur dioxide   density  \\\n",
       "wine_rating                                                                   \n",
       "bad           0.050557            26.624648            129.894963  0.994343   \n",
       "good          0.038160            34.563972            125.133281  0.992412   \n",
       "moderate      0.047742            35.962107            142.532224  0.994482   \n",
       "\n",
       "                   pH  sulphates    alcohol   quality  \n",
       "wine_rating                                            \n",
       "bad          3.183388   0.475956  10.178493  3.890710  \n",
       "good         3.215404   0.500142  11.415752  7.174528  \n",
       "moderate     3.180667   0.487557  10.269506  5.601368  "
      ]
     },
     "execution_count": 36,
     "metadata": {},
     "output_type": "execute_result"
    }
   ],
   "source": [
    "df.groupby('wine_rating').mean()"
   ]
  },
  {
   "cell_type": "markdown",
   "metadata": {},
   "source": [
    "# Building the Model "
   ]
  },
  {
   "cell_type": "markdown",
   "metadata": {},
   "source": [
    "We will now start working on building the linear regression model for predicting the quality of the wine. "
   ]
  },
  {
   "cell_type": "markdown",
   "metadata": {},
   "source": [
    "For this we will first Start by creating a training and testing dataframes for our model. We will assign 80% of data for the train model and 20% for the test model."
   ]
  },
  {
   "cell_type": "code",
   "execution_count": 37,
   "metadata": {},
   "outputs": [],
   "source": [
    "train = df.sample (frac= 0.80, random_state = 1)\n",
    "test = df.drop(train.index)\n"
   ]
  },
  {
   "cell_type": "markdown",
   "metadata": {},
   "source": [
    "We now need to create numpy arrays for our traning and testing datasets. As we are predicting the quality of the wine our target variable will be quality variable. We will call the input for training set train_X and the target train_y, and the inputs for the testing set test_X and test_y for the target."
   ]
  },
  {
   "cell_type": "code",
   "execution_count": 38,
   "metadata": {
    "scrolled": true
   },
   "outputs": [],
   "source": [
    "train_X = np.asarray(train[['fixed acidity', 'volatile aciditiy', 'citric acidity','residual sugar', 'chlorides', 'free sulfur dioxide', 'total sulfur dioxide', 'density', 'pH', 'sulphates', 'alcohol']])\n",
    "train_y = np.asarray(train.quality)\n",
    "\n",
    "test_X = np.asarray(test[['fixed acidity','volatile aciditiy','citric acidity','residual sugar', 'chlorides', 'free sulfur dioxide','total sulfur dioxide','density', 'pH', 'sulphates', 'alcohol']])\n",
    "test_y = np.asarray(test.quality)\n"
   ]
  },
  {
   "cell_type": "markdown",
   "metadata": {},
   "source": [
    "# Performing Naïve Bayes Classification"
   ]
  },
  {
   "cell_type": "markdown",
   "metadata": {},
   "source": [
    "We will now do the Naïve Bayes Classification which is ML algorithm for doing prediction. And we will then train the training data set by using the fit() function."
   ]
  },
  {
   "cell_type": "code",
   "execution_count": 39,
   "metadata": {},
   "outputs": [
    {
     "data": {
      "text/plain": [
       "GaussianNB(priors=None, var_smoothing=1e-09)"
      ]
     },
     "execution_count": 39,
     "metadata": {},
     "output_type": "execute_result"
    }
   ],
   "source": [
    "nbc = GaussianNB()\n",
    "nbc.fit(train_X, train_y)\n"
   ]
  },
  {
   "cell_type": "markdown",
   "metadata": {},
   "source": [
    "We will now check for the mislabeled points in our dataset as this gives us an idea about what part of our data was misclassified.  "
   ]
  },
  {
   "cell_type": "code",
   "execution_count": 40,
   "metadata": {},
   "outputs": [
    {
     "name": "stdout",
     "output_type": "stream",
     "text": [
      "Number of mislabeled points out of a total 980 points : 566\n",
      "Error Rate :0.5775510204081633\n"
     ]
    }
   ],
   "source": [
    "y_pred = nbc.fit(train_X, train_y).predict(test_X)\n",
    "print(\"Number of mislabeled points out of a total {} points : {}\"\n",
    "      .format(len(test),(test_y != y_pred).sum()))\n",
    "print(\"Error Rate :{}\".format((test_y != y_pred).sum()/len(test)))\n"
   ]
  },
  {
   "cell_type": "markdown",
   "metadata": {},
   "source": [
    "# Training Model for training data set using the fit() function"
   ]
  },
  {
   "cell_type": "code",
   "execution_count": 41,
   "metadata": {},
   "outputs": [],
   "source": [
    "regr = linear_model.LinearRegression()"
   ]
  },
  {
   "cell_type": "code",
   "execution_count": 42,
   "metadata": {},
   "outputs": [
    {
     "data": {
      "text/plain": [
       "LinearRegression(copy_X=True, fit_intercept=True, n_jobs=None,\n",
       "         normalize=False)"
      ]
     },
     "execution_count": 42,
     "metadata": {},
     "output_type": "execute_result"
    }
   ],
   "source": [
    "regr.fit(train_X, train_y)\n"
   ]
  },
  {
   "cell_type": "code",
   "execution_count": 43,
   "metadata": {},
   "outputs": [
    {
     "data": {
      "text/plain": [
       "135.02156433501372"
      ]
     },
     "execution_count": 43,
     "metadata": {},
     "output_type": "execute_result"
    }
   ],
   "source": [
    "regr.intercept_"
   ]
  },
  {
   "cell_type": "code",
   "execution_count": 44,
   "metadata": {},
   "outputs": [
    {
     "data": {
      "text/plain": [
       "[('fixed acidity', 0.05111538406638778),\n",
       " ('volatile aciditiy', -1.8348096152150923),\n",
       " ('citric acidity', 0.056898245356952065),\n",
       " ('residual sugar', 0.07557258418585797),\n",
       " ('chlorides', -0.19231693424728732),\n",
       " ('free sulfur dioxide', 0.0032202092701458795),\n",
       " ('total sulfur dioxide', -0.0003741449712324485),\n",
       " ('density', -134.96704030895052),\n",
       " ('pH', 0.6487610637912542),\n",
       " ('sulphates', 0.6107779337757259),\n",
       " ('alcohol', 0.2144337118275393)]"
      ]
     },
     "execution_count": 44,
     "metadata": {},
     "output_type": "execute_result"
    }
   ],
   "source": [
    "coefficients = zip(['fixed acidity', 'volatile aciditiy', 'citric acidity','residual sugar', 'chlorides', 'free sulfur dioxide', 'total sulfur dioxide', 'density', 'pH', 'sulphates', 'alcohol'], regr.coef_)\n",
    "list(coefficients)"
   ]
  },
  {
   "cell_type": "markdown",
   "metadata": {},
   "source": [
    "# Accessing Model using R-Squared Value"
   ]
  },
  {
   "cell_type": "code",
   "execution_count": 45,
   "metadata": {},
   "outputs": [
    {
     "name": "stdout",
     "output_type": "stream",
     "text": [
      "R-Squared value of Training Set is : 0.2861590678899255\n"
     ]
    }
   ],
   "source": [
    "print('R-Squared value of Training Set is : {}'.format(regr.score(train_X, train_y)))"
   ]
  },
  {
   "cell_type": "code",
   "execution_count": 46,
   "metadata": {},
   "outputs": [
    {
     "name": "stdout",
     "output_type": "stream",
     "text": [
      "R-Squared value of Testing Set is: 0.25957349417117737\n"
     ]
    }
   ],
   "source": [
    "print('R-Squared value of Testing Set is: {}'.format(regr.score(test_X, test_y)))"
   ]
  },
  {
   "cell_type": "markdown",
   "metadata": {},
   "source": [
    "# Predicting the Quality"
   ]
  },
  {
   "cell_type": "code",
   "execution_count": 47,
   "metadata": {},
   "outputs": [
    {
     "data": {
      "text/plain": [
       "array([5.76054279, 5.79559203, 5.65373658, 6.3067178 , 5.79156222,\n",
       "       5.93918461, 5.70650888, 5.89478135, 5.46848294, 5.4700792 ,\n",
       "       6.19263398, 5.70843535, 5.46192547, 5.5853199 , 5.38889656,\n",
       "       5.39837722, 6.04764259, 6.27861255, 5.58749872, 5.17116869,\n",
       "       5.14736259, 5.61533786, 5.50300323, 5.88337778, 5.96800301,\n",
       "       5.63712541, 5.17092781, 6.37727998, 5.47814177, 5.41184916,\n",
       "       5.82520369, 5.66741123, 6.11887061, 5.88566015, 6.34022302,\n",
       "       5.29308405, 5.92811319, 5.46547045, 5.46547045, 5.65660734,\n",
       "       5.87734356, 6.04725613, 4.23186413, 5.8634495 , 5.6355912 ,\n",
       "       5.913428  , 5.68297904, 5.68297904, 5.76801182, 6.30262415,\n",
       "       5.56616909, 5.14004093, 6.40576902, 5.78598939, 5.56744514,\n",
       "       5.18410216, 5.14568285, 5.38859757, 5.33089917, 5.81350354,\n",
       "       6.11289319, 5.57266404, 5.99669593, 6.11282027, 5.93845548,\n",
       "       5.67187174, 5.90921377, 5.68876623, 6.00772541, 6.1129234 ,\n",
       "       5.53058689, 5.31475564, 5.708487  , 5.58051305, 5.71789253,\n",
       "       5.54309529, 5.5376248 , 5.75894394, 5.12777145, 5.74383208,\n",
       "       5.64537755, 5.9083936 , 5.96489698, 5.39692044, 6.0099374 ,\n",
       "       5.26849987, 5.86684675, 4.70859554, 5.86684675, 5.4853837 ,\n",
       "       5.77565865, 5.92863257, 5.23580595, 6.55717646, 5.76672281,\n",
       "       5.96444756, 5.16793079, 5.36671278, 6.63804442, 5.3861144 ,\n",
       "       5.63545408, 5.63545408, 6.04494649, 6.37379202, 5.55528698,\n",
       "       5.66681577, 5.32995776, 5.79229216, 6.14560663, 5.73940237,\n",
       "       5.27882741, 5.59438265, 5.64226861, 5.92978576, 5.17216748,\n",
       "       4.80397629, 5.69093485, 5.53406113, 5.64729548, 5.53280146,\n",
       "       5.53280146, 6.11329319, 5.24127285, 5.28971837, 5.87820254,\n",
       "       5.8153822 , 6.39730474, 5.60321855, 5.78147559, 6.18631108,\n",
       "       5.67036753, 6.69844415, 5.65737091, 6.05222569, 5.47447895,\n",
       "       6.30363536, 6.02204404, 5.74698923, 5.91747547, 6.07873996,\n",
       "       6.2892705 , 6.27569105, 5.85015009, 5.41838489, 6.00450075,\n",
       "       5.85866272, 6.00450075, 6.15967374, 5.60158124, 6.3523744 ,\n",
       "       6.09422481, 5.7236972 , 5.30539746, 5.65094623, 5.82378713,\n",
       "       5.62620155, 5.03800305, 5.91874139, 5.05202769, 4.85767319,\n",
       "       5.84019432, 6.3020798 , 6.61748834, 6.27014648, 6.31148778,\n",
       "       6.31148778, 5.38107517, 5.9213004 , 6.14776886, 5.38107517,\n",
       "       5.70576521, 6.3868134 , 6.51829076, 5.8318685 , 5.32607705,\n",
       "       5.41587838, 6.74121135, 5.86225245, 6.07465741, 6.13344186,\n",
       "       5.58351867, 5.54102961, 5.83447812, 6.43128134, 5.07019643,\n",
       "       5.28101738, 5.31823578, 5.94219915, 5.95255891, 5.63197193,\n",
       "       5.79884009, 5.43072643, 5.40720409, 5.08330665, 5.59974623,\n",
       "       5.26208195, 5.76790475, 6.55686547, 6.27201018, 5.46660949,\n",
       "       5.72471045, 5.7968291 , 5.78929463, 6.29634825, 5.84124048,\n",
       "       4.98156038, 5.69124584, 5.66675483, 5.57118254, 4.95449642,\n",
       "       5.89490068, 5.98319848, 5.44904291, 6.08739366, 5.64687808,\n",
       "       5.68852026, 5.87738556, 6.22857759, 6.29106789, 6.46448854,\n",
       "       6.39731189, 5.46796685, 5.25586956, 5.48395374, 6.47197803,\n",
       "       5.27304302, 5.44338986, 5.84182464, 5.34571702, 4.71070326,\n",
       "       6.18293252, 6.27747202, 6.17306899, 5.90320551, 6.09679583,\n",
       "       5.24873422, 5.24873422, 5.61259267, 6.13146869, 5.5151295 ,\n",
       "       6.44500043, 5.28952198, 5.3579778 , 5.29522133, 5.48980969,\n",
       "       6.67825165, 6.15239771, 5.67764419, 5.59300347, 5.88328904,\n",
       "       6.60603251, 5.99929342, 5.45780786, 5.83028929, 5.26367069,\n",
       "       6.01136902, 5.89360814, 5.83578243, 6.31213721, 6.02285253,\n",
       "       6.16181222, 6.20775143, 6.13209365, 5.0492057 , 5.72989401,\n",
       "       6.35594193, 5.47665188, 5.70729946, 5.99654847, 5.60518519,\n",
       "       5.51633896, 5.61816277, 5.47051963, 5.51693958, 6.29648846,\n",
       "       5.58989814, 6.39445268, 5.82659099, 6.04954509, 6.1178939 ,\n",
       "       5.28623107, 4.71400368, 6.03566456, 5.62223178, 5.72333797,\n",
       "       6.03139488, 5.68393226, 5.57912949, 6.11629681, 6.02447702,\n",
       "       5.97194406, 5.91511613, 5.93500469, 5.45165367, 5.54346937,\n",
       "       5.67559534, 6.03751707, 5.48789834, 6.3407242 , 6.7150015 ,\n",
       "       6.17053918, 5.26514687, 5.26514687, 5.97583755, 5.23289409,\n",
       "       5.20278841, 6.32247459, 4.85845173, 4.91504136, 6.64492308,\n",
       "       6.12210946, 4.9645174 , 5.85178226, 5.21668302, 6.54083413,\n",
       "       6.0427053 , 5.5338773 , 6.32309059, 5.81726172, 5.49911692,\n",
       "       5.64736267, 5.34078798, 5.68538312, 5.91373317, 5.59769572,\n",
       "       6.49524785, 5.87834588, 5.57721744, 6.24417126, 5.38367631,\n",
       "       5.87672932, 5.48077507, 5.28497977, 6.21282249, 5.86675209,\n",
       "       5.48077507, 6.18935165, 6.40497602, 6.3904769 , 6.09507172,\n",
       "       5.25097809, 5.57913458, 5.76782906, 5.47419945, 5.76782906,\n",
       "       5.05634283, 5.79910346, 5.05634283, 6.13601614, 5.28545167,\n",
       "       5.9761479 , 6.0540603 , 4.86731482, 5.46082406, 6.51607875,\n",
       "       6.07973552, 6.26584802, 6.41048676, 5.88646386, 5.88155812,\n",
       "       5.60575211, 5.47694201, 5.66618924, 5.60092786, 5.60092786,\n",
       "       5.78516913, 5.91825284, 5.8806545 , 5.60092786, 5.50396418,\n",
       "       5.79591088, 5.58238447, 5.45805793, 6.11466268, 5.64993741,\n",
       "       5.11359776, 5.78270081, 6.53514518, 5.8748659 , 5.25604868,\n",
       "       5.6329942 , 5.66598522, 5.2745521 , 5.60812939, 5.60812939,\n",
       "       5.60812939, 5.60812939, 5.81373987, 5.64502508, 5.64253083,\n",
       "       6.21599622, 6.11199603, 5.69529234, 5.79570915, 5.5219776 ,\n",
       "       5.90503773, 5.73675114, 5.44919579, 5.68599781, 5.63785056,\n",
       "       6.47073243, 5.2953844 , 5.88735624, 6.20218697, 5.7343932 ,\n",
       "       5.69251775, 5.75473017, 5.53894137, 5.72958416, 5.56373738,\n",
       "       4.47013731, 5.4952505 , 5.84084121, 5.12895831, 5.87158782,\n",
       "       5.93317811, 5.66821718, 6.51920371, 5.93252044, 6.17031406,\n",
       "       5.40213911, 5.70430593, 4.20682939, 5.60556231, 5.23465844,\n",
       "       5.58227545, 5.38603949, 5.7725692 , 5.22786431, 6.21212749,\n",
       "       5.87875429, 5.43029779, 5.51578668, 5.56251374, 5.58666016,\n",
       "       6.15177391, 6.03021746, 5.99443314, 6.59866387, 5.83737467,\n",
       "       5.72669395, 5.77903157, 5.73480747, 5.05701889, 5.40705518,\n",
       "       5.05701889, 5.21654373, 6.03446728, 5.03265666, 6.31464447,\n",
       "       5.88891828, 6.00021813, 6.12061597, 5.44755872, 5.99046855,\n",
       "       5.71195406, 5.71195406, 5.32834064, 4.75937075, 5.5344466 ,\n",
       "       5.59684574, 5.84772958, 5.70005493, 6.30838563, 5.80958424,\n",
       "       5.237619  , 5.16582583, 6.23300864, 5.07027648, 5.41612842,\n",
       "       5.57526287, 6.3918192 , 5.55880059, 5.71671988, 6.32165893,\n",
       "       5.3562174 , 4.50088071, 5.631396  , 6.08727572, 5.34172584,\n",
       "       5.59624265, 5.24156379, 5.57798694, 5.08700158, 5.27177053,\n",
       "       5.56249849, 5.88211923, 6.06882371, 5.34227371, 5.78337944,\n",
       "       5.38887061, 5.83542172, 5.50590818, 6.2628948 , 4.93737959,\n",
       "       6.48519194, 5.60879264, 6.65250448, 6.44468406, 5.9435237 ,\n",
       "       5.41187258, 4.87786145, 5.94122352, 5.82008402, 5.07587054,\n",
       "       5.26567128, 5.62508315, 5.62508315, 5.2775295 , 5.46663636,\n",
       "       5.82836258, 5.36367389, 6.51492731, 5.55253176, 6.57488717,\n",
       "       5.85525739, 5.5506367 , 6.33689412, 5.95567165, 5.69026372,\n",
       "       5.47107528, 5.7025332 , 6.22212865, 5.9239904 , 5.50345434,\n",
       "       6.11368868, 6.00720639, 6.4012706 , 6.85023943, 5.51606538,\n",
       "       5.65234681, 5.2124353 , 5.28453199, 5.82342491, 5.6225184 ,\n",
       "       6.2340451 , 6.3073552 , 6.0054057 , 5.88850809, 5.61417513,\n",
       "       5.69349268, 5.78342309, 5.83072953, 6.06849916, 6.06849916,\n",
       "       5.07900948, 6.46247707, 5.9365488 , 5.41692699, 5.18415143,\n",
       "       5.57901385, 6.20084538, 5.35688608, 6.75222326, 6.14253315,\n",
       "       6.71809079, 5.58664372, 5.50438783, 6.37659674, 5.85349839,\n",
       "       6.3753366 , 6.17980187, 6.31984237, 5.85349839, 5.8868236 ,\n",
       "       5.65106279, 6.08198611, 6.22532474, 5.57721228, 6.30381892,\n",
       "       6.08911347, 6.84073744, 6.60310226, 6.10208229, 5.62546913,\n",
       "       6.12370439, 6.84648599, 5.03936381, 5.18984488, 6.04681803,\n",
       "       6.1021423 , 6.31193961, 6.0977734 , 5.6250679 , 6.03226247,\n",
       "       5.21767313, 5.19728289, 5.96207788, 6.45547279, 6.5119476 ,\n",
       "       5.56586944, 5.21594193, 6.45589462, 6.35747068, 6.24286169,\n",
       "       6.32112167, 6.30352172, 6.24026321, 5.74896693, 6.44116102,\n",
       "       6.48280698, 6.40913325, 5.64929644, 5.96827863, 6.69397121,\n",
       "       6.38341865, 5.25779155, 5.99047395, 6.70414957, 6.04866918,\n",
       "       6.29790528, 6.18938176, 7.03122622, 7.03122622, 6.16853102,\n",
       "       5.68106455, 5.26055877, 6.14882233, 5.73805666, 6.3873665 ,\n",
       "       5.67215836, 6.39292112, 6.3596774 , 6.3596774 , 6.8708275 ,\n",
       "       5.49803665, 6.42185914, 5.19016627, 5.20441519, 5.65080516,\n",
       "       5.65080516, 5.77190879, 5.86950493, 5.86950493, 6.74770803,\n",
       "       6.4160322 , 6.01443568, 5.84067263, 6.49503132, 6.28549543,\n",
       "       6.61386585, 5.90091682, 6.30548204, 6.20617121, 5.18964092,\n",
       "       6.88243444, 6.5871489 , 6.47353977, 6.61970852, 6.64467752,\n",
       "       5.45689708, 6.48080286, 5.72062116, 6.53498808, 5.83121185,\n",
       "       6.23634692, 6.20898495, 5.48155124, 6.498456  , 7.01473727,\n",
       "       5.02315474, 6.84423151, 6.68388522, 6.66155722, 5.93999923,\n",
       "       6.19637322, 6.17116873, 6.30629916, 6.33007986, 6.6197442 ,\n",
       "       6.7158011 , 5.87155818, 5.62148317, 5.75414763, 5.55437714,\n",
       "       5.8840319 , 5.86339571, 5.98065773, 6.61360494, 6.75347472,\n",
       "       6.2673452 , 5.31743361, 5.31743361, 5.99777762, 6.27041475,\n",
       "       6.91244412, 5.73263926, 6.06754   , 6.06210162, 6.82652796,\n",
       "       5.49386983, 5.80506816, 5.37926274, 6.65268289, 6.37003258,\n",
       "       6.88345076, 5.61167084, 6.32810807, 6.56162479, 5.98347023,\n",
       "       6.24685292, 5.95519121, 6.89918781, 6.0668273 , 4.72243392,\n",
       "       6.21703733, 6.22142678, 5.67699025, 5.95087912, 6.05075499,\n",
       "       6.55684354, 5.26367254, 5.20008011, 5.64798757, 5.20008011,\n",
       "       6.36909612, 5.81828988, 5.37474451, 5.40322347, 5.86883319,\n",
       "       5.7889654 , 6.21280261, 5.92243767, 5.54628657, 6.03424609,\n",
       "       6.2446869 , 6.70228472, 5.70439422, 5.42228   , 5.48086064,\n",
       "       5.70439422, 6.19270648, 6.39285207, 5.42238699, 5.65038902,\n",
       "       5.66096007, 5.66096007, 5.66096007, 6.17669475, 6.64963449,\n",
       "       6.44677775, 5.6243287 , 6.13051785, 5.99292775, 5.21628184,\n",
       "       6.0317517 , 5.68802784, 6.11752908, 5.77894789, 6.19121555,\n",
       "       6.42689771, 6.17590772, 5.22183351, 6.85591217, 5.65646824,\n",
       "       6.75275834, 6.42432805, 6.11652183, 5.38897812, 5.38897812,\n",
       "       5.92433635, 6.54708742, 5.98844454, 5.63872283, 6.10231285,\n",
       "       6.53523417, 5.97168217, 5.09545749, 5.80292167, 6.58337382,\n",
       "       5.37098452, 6.64073568, 5.9930474 , 6.8881111 , 6.52555498,\n",
       "       5.27120575, 6.62507893, 6.24325577, 6.24325577, 5.74312871,\n",
       "       5.77526184, 6.28937639, 5.93304754, 5.51860985, 5.51744168,\n",
       "       6.32972706, 6.23262065, 6.12493975, 6.12668013, 6.16011194,\n",
       "       6.01862033, 6.36603083, 6.25201923, 5.62288562, 5.29369639,\n",
       "       6.59375395, 5.26562587, 5.05907653, 5.57188788, 5.63093614,\n",
       "       5.91570748, 6.29510862, 6.45982533, 5.50178493, 6.0835427 ,\n",
       "       5.5068376 , 5.63960764, 5.63960764, 6.1714753 , 5.93740807,\n",
       "       5.36581866, 6.56140966, 6.5381918 , 5.39682812, 5.476178  ,\n",
       "       5.476178  , 6.39431557, 5.14873625, 5.56334124, 6.39405193,\n",
       "       6.09948916, 5.96695352, 5.87210217, 6.24945795, 6.65971875,\n",
       "       5.6570519 , 6.27252184, 6.42501378, 5.04757414, 6.31217696,\n",
       "       6.01487151, 5.97197458, 5.68153089, 5.91102221, 6.11976236,\n",
       "       5.79598498, 5.9402329 , 5.20814878, 6.60152697, 5.70873587,\n",
       "       5.71692128, 5.80358439, 5.70873587, 6.16245908, 5.63398707,\n",
       "       6.07968502, 6.05013673, 5.90553171, 6.20413965, 5.93821141,\n",
       "       5.89127917, 5.52610836, 5.52610836, 5.52610836, 6.28575153,\n",
       "       5.90167968, 6.14744596, 6.60857496, 6.00166499, 5.27410007,\n",
       "       6.19339729, 6.0874337 , 5.76989498, 6.41177561, 6.59225491,\n",
       "       6.40990664, 5.55031445, 5.6677071 , 5.18062511, 5.09696404,\n",
       "       5.88410028, 5.18167455, 5.52058253, 6.19064264, 5.39946574,\n",
       "       6.27578788, 6.57005882, 5.97686373, 5.84080163, 5.55705167,\n",
       "       5.36771148, 6.2409801 , 6.15475781, 6.2601161 , 6.04870584,\n",
       "       5.45584244, 6.46797855, 5.91648257, 5.33732038, 5.00372272,\n",
       "       6.82354149, 6.19722347, 5.9930913 , 6.81842995, 6.40181931,\n",
       "       6.07790804, 6.16534266, 7.18209233, 5.56316984, 5.97506373,\n",
       "       5.88343944, 6.42804876, 5.48653476, 6.14779099, 5.65348373,\n",
       "       5.2328    , 5.89516931, 6.11656223, 6.11656223, 6.1906207 ,\n",
       "       6.20220413, 6.08834404, 5.81020916, 6.11550777, 5.91527068,\n",
       "       6.79785469, 6.34771249, 6.56287391, 6.40106273, 6.77976827,\n",
       "       5.70043977, 6.52258284, 4.83219799, 6.11943234, 4.83219799,\n",
       "       5.5281636 , 5.5281636 , 5.5281636 , 6.78788301, 5.21308904,\n",
       "       5.87512538, 6.31138912, 6.30442553, 5.52493698, 6.52015834,\n",
       "       6.65040202, 6.62031655, 6.75522966, 6.42155303, 6.2051798 ,\n",
       "       5.46765135, 5.41094916, 5.46653068, 5.42521375, 6.21617399,\n",
       "       6.39198761, 6.37694492, 6.21617399, 5.70108112, 5.12948737,\n",
       "       5.33589128, 5.8756737 , 6.37091452, 5.67214722, 5.23291412,\n",
       "       5.90011556, 6.38424083, 6.17072883, 5.96858599, 6.25016674,\n",
       "       5.24271351, 6.47583641, 6.19568166, 5.6232478 , 5.48412747,\n",
       "       5.91389135, 5.64216015, 6.32854962, 5.64000806, 5.63266791,\n",
       "       5.52310264, 4.60660899, 5.62565812, 5.67641622, 5.92646469,\n",
       "       6.99753619, 5.77032875, 6.02231866, 5.62168081, 6.59296674])"
      ]
     },
     "execution_count": 47,
     "metadata": {},
     "output_type": "execute_result"
    }
   ],
   "source": [
    "pred = regr.predict(test_X)\n",
    "pred"
   ]
  },
  {
   "cell_type": "markdown",
   "metadata": {},
   "source": [
    "## Step 6: Visualize Results"
   ]
  },
  {
   "cell_type": "markdown",
   "metadata": {},
   "source": [
    "We will now see how the diffrent features of the wine can affect the quality of the wine by plotting the features with quality of the wine."
   ]
  },
  {
   "cell_type": "code",
   "execution_count": 48,
   "metadata": {},
   "outputs": [
    {
     "data": {
      "image/png": "[encoded data removed]",
      "text/plain": [
       "<Figure size 640x480 with 1 Axes>"
      ]
     },
     "metadata": {},
     "output_type": "display_data"
    },
    {
     "data": {
      "text/plain": [
       "<ggplot: (8758139460956)>"
      ]
     },
     "execution_count": 48,
     "metadata": {},
     "output_type": "execute_result"
    }
   ],
   "source": [
    "p = (\n",
    "    ggplot(df, aes(x = \"factor(quality)\", y =\"alcohol\", fill = 'wine_rating'))\n",
    "    + geom_boxplot()\n",
    "    + xlab(\"Quality of wine \")\n",
    "    + ylab(\"Alcohol Percent\")\n",
    "    + ggtitle(\"Quality with respect to Alcohol\")\n",
    "    + scale_fill_brewer(palette=\"YlGnBu\")\n",
    ")\n",
    "p + ylim(6, 16)"
   ]
  },
  {
   "cell_type": "markdown",
   "metadata": {},
   "source": [
    "In the above plot wecan see that, as the alcohol percentage goes on increases the quality of the wine also improves with it."
   ]
  },
  {
   "cell_type": "markdown",
   "metadata": {},
   "source": [
    "We will now plot Quality with the respect to Suphates and see howo it affects the quality of the wine."
   ]
  },
  {
   "cell_type": "code",
   "execution_count": 49,
   "metadata": {},
   "outputs": [
    {
     "data": {
      "image/png": "[encoded data removed]",
      "text/plain": [
       "<Figure size 640x480 with 1 Axes>"
      ]
     },
     "metadata": {},
     "output_type": "display_data"
    },
    {
     "data": {
      "text/plain": [
       "<ggplot: (-9223363278715408903)>"
      ]
     },
     "execution_count": 49,
     "metadata": {},
     "output_type": "execute_result"
    }
   ],
   "source": [
    "p1 = (\n",
    "    ggplot(df, aes(x = \"factor(quality)\", y =\"sulphates\", fill = 'wine_rating'))\n",
    "    + geom_boxplot()\n",
    "    + xlab(\"Quality of wine \")\n",
    "    + ylab(\"Sulphate Content\")\n",
    "    + ggtitle(\"Quality with respect to Sulphates\")\n",
    "    + scale_fill_brewer(palette=\"YlGnBu\")\n",
    ")\n",
    "p1\n",
    "\n"
   ]
  },
  {
   "cell_type": "markdown",
   "metadata": {},
   "source": [
    "As we can see that there is not much of the diffrence that the content of suphates has on the quality of wine."
   ]
  },
  {
   "cell_type": "code",
   "execution_count": 50,
   "metadata": {},
   "outputs": [
    {
     "data": {
      "image/png": "[encoded data removed]",
      "text/plain": [
       "<Figure size 640x480 with 1 Axes>"
      ]
     },
     "metadata": {},
     "output_type": "display_data"
    },
    {
     "data": {
      "text/plain": [
       "<ggplot: (8758139350227)>"
      ]
     },
     "execution_count": 50,
     "metadata": {},
     "output_type": "execute_result"
    }
   ],
   "source": [
    "p2 = (\n",
    "    ggplot(df, aes(x = \"factor(quality)\", y =\"pH\", fill = 'wine_rating'))\n",
    "    + geom_boxplot()\n",
    "    + xlab(\"Quality of wine \")\n",
    "    + ylab(\"pH Level\")\n",
    "    + ggtitle(\"Quality with respect to pH level\")\n",
    "    + scale_fill_brewer(palette=\"YlGnBu\")\n",
    ")\n",
    "p2 + scale_y_log10()"
   ]
  },
  {
   "cell_type": "markdown",
   "metadata": {},
   "source": [
    "In case of pH it is evident that the ph level increases with the quality of wine. "
   ]
  },
  {
   "cell_type": "code",
   "execution_count": 51,
   "metadata": {},
   "outputs": [
    {
     "data": {
      "image/png": "[encoded data removed]",
      "text/plain": [
       "<Figure size 640x480 with 1 Axes>"
      ]
     },
     "metadata": {},
     "output_type": "display_data"
    },
    {
     "data": {
      "text/plain": [
       "<ggplot: (-9223363278715557614)>"
      ]
     },
     "execution_count": 51,
     "metadata": {},
     "output_type": "execute_result"
    }
   ],
   "source": [
    "p3 = (\n",
    "    ggplot(df, aes(x = \"factor(quality)\", y =\"chlorides\", fill = 'wine_rating'))\n",
    "    + geom_boxplot()\n",
    "    + xlab(\"Quality of wine \")\n",
    "    + ylab(\"Chloride Content\")\n",
    "    + ggtitle(\"Quality with respect to Chlorides\")\n",
    "    + scale_fill_brewer(palette=\"YlGnBu\")\n",
    ")\n",
    "p3 + scale_y_log10()"
   ]
  },
  {
   "cell_type": "markdown",
   "metadata": {},
   "source": [
    "From above graph it is evident that if the content of chloride is higher then it affects the quality of the wine. "
   ]
  },
  {
   "cell_type": "markdown",
   "metadata": {},
   "source": [
    "We will now plot a linear model of alcohol and residual sugar and will compare with the rating of wine. "
   ]
  },
  {
   "cell_type": "code",
   "execution_count": 80,
   "metadata": {},
   "outputs": [
    {
     "data": {
      "text/plain": [
       "<seaborn.axisgrid.FacetGrid at 0x7f724bcde2b0>"
      ]
     },
     "execution_count": 80,
     "metadata": {},
     "output_type": "execute_result"
    },
    {
     "data": {
      "image/png": "[encoded data removed]",
      "text/plain": [
       "<Figure size 1080x360 with 3 Axes>"
      ]
     },
     "metadata": {
      "needs_background": "light"
     },
     "output_type": "display_data"
    }
   ],
   "source": [
    "sns.lmplot(x = \"alcohol\", y = \"volatile aciditiy\", col = \"wine_rating\", data = df, hue = 'wine_rating') "
   ]
  },
  {
   "cell_type": "markdown",
   "metadata": {},
   "source": [
    "The above plot is a linear regression plot of white wine, rated on the basis of the quality of the wine(moderate, good and bad). The plot show us the regression between the Alcohol content and the volatile acidity of white wine. "
   ]
  },
  {
   "cell_type": "markdown",
   "metadata": {},
   "source": [
    "## Step 7: Communicate the Story to your intended audience using visualizations and narrative\n",
    "\n"
   ]
  },
  {
   "cell_type": "markdown",
   "metadata": {},
   "source": [
    "Vinho Verde wine which comes from a very small region in the North of Portugal which is famous for there white wines. The data set has results of a  physical chemsistry (physicochemical test) on the white wine. The variables of the data are different types of acidities like fixed, volatile, citric; it also has datapoints for free and total sulphur dioxides. The data set also give us the details about the density, pH, suphates level and the alcohol percent of the wine. For our project we have `quality` variable as our target variable and the goal was to find how different features or contents of the wine can change the quality of the wine. \n",
    "\n",
    "To understand that we plotted some boxplot to findout the relation between different features of the wine. If we see the plot with title `Quality with respect to Alcohol` and `Quality with respect to pH Level` we can see that the alcohol percent is directly propotionate to the quality of the wine but if we see the plot `Quality with respect to Sulphates` it does not really affect the quality of the wine. \n",
    "\n",
    "In case of chlorides (refer plot `Quality with respect to Chlorides`) we can see that the high quality wine has less chlorides in it as chlorides add the saltiness to the wine which detracts the overall taste of the wine, which in turn reduces the quality of the wine. \n",
    "\n",
    "For the Linear regression model plot we used the relation between the alcohol percent and volatile acidity of the wine. Volatile acidity is the measurement of the volatile acide in the wine, which is mainly the acetic acid which is responisble for the smell and taste of vinegar. From the plot we can see that for the good quality wine trend line is increasing gradualy with the increase in alcohol content. \n",
    "\n",
    "This various realtion of wine with it's own feature can help in the wine manufacturer in the wine making process to make more good quality wine or maybe in improving the manufacturing process to produce some better wine. \n",
    "\n",
    "\n",
    "\n",
    "\n"
   ]
  },
  {
   "cell_type": "markdown",
   "metadata": {},
   "source": [
    "# Final Step: Connect your workflow/process to the DSA-Project Life Cycle\n",
    "- List and briefly discuss how important details from each stage of the [DSA-PLC](../../module1/resources/DSA-ProjectLifecycle-slidedeck.pdf) played a role in your story development.\n",
    "- Use markdown to provide this overview below:\n",
    "<hr/>\n",
    "\n",
    "<h1 align=\"center\"><u>DSA-Project Life Cycle Discussion</u></h1>\n",
    "\n"
   ]
  },
  {
   "cell_type": "markdown",
   "metadata": {},
   "source": [
    "`Stage 1: Project Definition, Requirements, & Expectations stage`\n",
    "This stage is very impotant as it the starting process of the project. For this stage I had to figure out what my problem statement should be in order to work on my project. After finding the data and reading through it, it was crucial to understand the data and try to figure out what expectation can we solve using this data. \n",
    "\n",
    "`Stage 2: Data Acquisition, Goveranance, Curationa and Source Code Management`\n",
    "To work on any data realted project it is crucial to have dataset which can us with our project definition and our expectation. So finding the data from a trusted source is really necesary. And for my project I got the data set from a open website so there was no issue with the goveranance aspet of this stage \n",
    "\n",
    "`Stage 3: Data Shaping and Carpentry`\n",
    "After collecting the data it is necessary to perform data carpentry on it to see if there are any discrepancy in it. For my case I had to replace the NaN values. If I had not done it at the starting stage of my project it would have affected my results. \n",
    "\n",
    "`Stage 4: Expolatory Data Analysis and Visulization`\n",
    "Exploring the data helps us in understanding the data values of the data. It also helps us to analyse the range of the datapoints. In my case as I was predicting the quality, Expolatory data analysis on the quality column helped me understand the range of the values present in the dataset. \n",
    "\n",
    "`Stage 5: Statistical/Machine Learning Model Planning Building Testing`\n",
    "In this stage I planned on what variables to use for linear regression model and get the desired results. For this stage I tried with different variabels of training and testing data set ratios. \n",
    "\n",
    "`Stage 6: S/ML Model Validation, Visulization, Interpretation `\n",
    "For this stage I performed various visulization plots like `Quality with respect to Alcohol`, `Quality with respect to pH Level` etc to understad how the data is performing and how it can be useful for the intended audience to interpret the results. \n",
    "\n",
    "`Stage 7: Data Story/Product Development Reporting `\n",
    "This stage is almost the end of our project so it is important to explain what all things we have performed and what is the outcome of our project.\n",
    "\n",
    "`Stage 8: S/ML Model/Product Development & Monitoring`\n",
    "In this stage the project can be used by the audience or the wine manufacturer if they have the certain features required by the model, they can pass it to the model and use it accordingly for development. \n"
   ]
  },
  {
   "cell_type": "code",
   "execution_count": null,
   "metadata": {},
   "outputs": [],
   "source": []
  }
 ],
 "metadata": {
  "kernelspec": {
   "display_name": "Python 3",
   "language": "python",
   "name": "python3"
  },
  "language_info": {
   "codemirror_mode": {
    "name": "ipython",
    "version": 3
   },
   "file_extension": ".py",
   "mimetype": "text/x-python",
   "name": "python",
   "nbconvert_exporter": "python",
   "pygments_lexer": "ipython3",
   "version": "3.7.10"
  }
 },
 "nbformat": 4,
 "nbformat_minor": 2
}
